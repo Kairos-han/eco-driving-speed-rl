{
  "nbformat": 4,
  "nbformat_minor": 0,
  "metadata": {
    "colab": {
      "provenance": [],
      "authorship_tag": "ABX9TyNlZLHT8EmC5SNfVW97XYvJ",
      "include_colab_link": true
    },
    "kernelspec": {
      "name": "python3",
      "display_name": "Python 3"
    },
    "language_info": {
      "name": "python"
    }
  },
  "cells": [
    {
      "cell_type": "markdown",
      "metadata": {
        "id": "view-in-github",
        "colab_type": "text"
      },
      "source": [
        "<a href=\"https://colab.research.google.com/github/LimaCondas/eco-driving-speed-rl/blob/main/My_Gym01.ipynb\" target=\"_parent\"><img src=\"https://colab.research.google.com/assets/colab-badge.svg\" alt=\"Open In Colab\"/></a>"
      ]
    },
    {
      "cell_type": "markdown",
      "source": [
        "#**0.Install Dependencies**"
      ],
      "metadata": {
        "id": "ZsHKnip8uaR-"
      }
    },
    {
      "cell_type": "code",
      "execution_count": null,
      "metadata": {
        "id": "F9tIlbQ7tXg6"
      },
      "outputs": [],
      "source": [
        "!pip install gym\n",
        "!pip install tensorflow==2.5.0\n",
        "!pip install keras\n",
        "!pip install keras-rl2"
      ]
    },
    {
      "cell_type": "code",
      "source": [
        "from gym import Env\n",
        "from gym.spaces import Discrete, Box\n",
        "import numpy as np\n",
        "import random"
      ],
      "metadata": {
        "id": "ZFqX2BABwjsQ"
      },
      "execution_count": null,
      "outputs": []
    },
    {
      "cell_type": "code",
      "source": [
        "# This code defines several constants that can be used in a physics model for a car\n",
        "# VEHICLE_MASS is set to 1500KG, representing the mass of a vehicle in kilograms\n",
        "VEHICLE_MASS = 1500\n",
        "\n",
        "# GRAVITY is set to 9.8, representing the acceleration due to gravity in meters per second squared\n",
        "GRAVITY = 9.8\n",
        "\n",
        "# INIT_VELOCITY is set to 60KM/H, representing the initial velocity of a vehicle in meters per second\n",
        "INIT_VELOCITY = 60\n",
        "\n",
        "# INIT_ACC is set to 0M/S^2, representing the initial acceleration \n",
        "INIT_ACC= 0\n",
        "\n",
        "# SAFETY_DISTANCE is set to 20M, representing the distance a car should maintain from the car in front of it in meters\n",
        "SAFETY_DISTANCE = 20\n",
        "\n",
        "# SPEED_LIMIT is set to 60KM/H, representing the maximum speed limit in the area the model is being applied to in meters per second\n",
        "SPEED_LIMIT = 60\n",
        "\n",
        "# DISTANCE is set to 10KM, representing the total distance of the given virtual road environment\n",
        "DISTANCE = 10\n"
      ],
      "metadata": {
        "id": "QZV_PaMYI0K4"
      },
      "execution_count": null,
      "outputs": []
    },
    {
      "cell_type": "markdown",
      "source": [
        ">Code to define the work of fraction force"
      ],
      "metadata": {
        "id": "YnnczWY9yWG9"
      }
    },
    {
      "cell_type": "code",
      "source": [
        "# Constants\n",
        "MASS = 1000 # kg\n",
        "GRAVITY = 9.81 # m/s^2\n",
        "MAX_SPEED = 20 # m/s\n",
        "\n",
        "# Initial conditions\n",
        "v = 10 # m/s\n",
        "a = 2 # m/s^2\n",
        "t = 0 # s\n",
        "dt = 0.1 # s\n",
        "\n",
        "# Calculate the work done by the traction force\n",
        "work = 0\n",
        "while v > 0 and v < MAX_SPEED:\n",
        "    F_traction = MASS * a\n",
        "    work += F_traction * v * dt\n",
        "    v = v + a * dt\n",
        "    t = t + dt\n",
        "\n",
        "print(\"Work done by the traction force: {:.2f} J\".format(work))"
      ],
      "metadata": {
        "colab": {
          "base_uri": "https://localhost:8080/"
        },
        "id": "5NqbCowTwlSF",
        "outputId": "7470d9d7-b564-487c-83ca-e6bea8fa057e"
      },
      "execution_count": 5,
      "outputs": [
        {
          "output_type": "stream",
          "name": "stdout",
          "text": [
            "Work done by the traction force: 153000.00 J\n"
          ]
        }
      ]
    },
    {
      "cell_type": "markdown",
      "source": [
        "> This block is **EcoDrivingEnv** finished by ChatGPT"
      ],
      "metadata": {
        "id": "Geq5S6bW6qCg"
      }
    },
    {
      "cell_type": "code",
      "source": [
        "\n",
        "import gym\n",
        "from gym import spaces\n",
        "import numpy as np\n",
        "\n",
        "class EcoDrivingEnv(gym.Env):\n",
        "    def __init__(self):\n",
        "        self.safe_speed_limit = 60 # m/s\n",
        "        self.time_step = 1 # seconds\n",
        "        self.car_mass = 1000 # kg\n",
        "        self.gravity = 9.81 # m/s^2\n",
        "        self.MAX_SPEED = 100 # m/s\n",
        "        self.friction_coefficient = 0.8\n",
        "        self.position = 0\n",
        "        self.speed = 0\n",
        "        self.work = 0\n",
        "        self.steps = 0\n",
        "        self.total_reward = 0\n",
        "        self.track_length = 1000\n",
        "        self.max_steps = 500\n",
        "        self.max_acceleration = 1\n",
        "\n",
        "        self.action_space = spaces.Discrete(3) # deaccelerate, no action, accelerate\n",
        "        # Observation space [position, speed]\n",
        "        self.observation_space = spaces.Box(low=np.array([0, 0]), high=np.array([np.inf, np.inf]), dtype=np.float32)\n",
        "\n",
        "    def reset(self):\n",
        "        self.position = 0\n",
        "        self.speed = 0\n",
        "        self.work = 0\n",
        "        self.steps = 0\n",
        "        self.total_reward = 0\n",
        "        return np.array([self.position, self.speed], dtype=np.float32)\n",
        "\n",
        "    def step(self, action):\n",
        "        # Apply action\n",
        "        if action == 0:\n",
        "            acceleration = -self.max_acceleration # -1\n",
        "        elif action == 1:\n",
        "            acceleration = 0\n",
        "        else:\n",
        "            acceleration = self.max_acceleration # 1\n",
        "\n",
        "        # Calculate new speed and position\n",
        "        new_speed = self.speed + acceleration * self.time_step # vt = v0 + a * dt\n",
        "        new_speed = np.clip(new_speed, 0, self.MAX_SPEED) # speed no bigger than max speed\n",
        "        # xt = x0 + vt + 0.5 * a * t^2\n",
        "        new_position = self.position + self.speed * self.time_step + 0.5 * acceleration * self.time_step ** 2\n",
        "\n",
        "        # Calculate work of friction force\n",
        "        friction_force = self.friction_coefficient * self.mass * acceleration # F = 0.8 * m * a\n",
        "        friction_work = friction_force * (new_position - self.position) # W = F * dx\n",
        "\n",
        "        # Calculate deviation from safe speed limit\n",
        "        speed_deviation = abs(new_speed - self.safe_speed_limit)\n",
        "\n",
        "        # Calculate reward\n",
        "        reward = - 0.3 * friction_work - 0.7 * speed_deviation\n",
        "\n",
        "        # Update state\n",
        "        self.position = new_position\n",
        "        self.speed = new_speed\n",
        "        self.steps += 1\n",
        "\n",
        "        # Check if episode is done, distance or steps satisfied\n",
        "        if self.position >= self.track_length or self.steps >= self.max_steps:\n",
        "          done = True\n",
        "\n",
        "        # Update info dictionary with additional information\n",
        "        observation = np.array([self.position, self.speed], dtype=np.float32)\n",
        "        info = {'friction_work': friction_work, 'speed_deviation': speed_deviation}\n",
        "\n",
        "        # Return step information\n",
        "        return observation, reward, done, info\n",
        "\n",
        "\n",
        "    def render(self):\n",
        "        print(f\"Position: {self.position:.2f}m, Speed: {self.speed:.2f}m/s, Work: {self.work:.2f}J, Steps: {self.steps}\")\n"
      ],
      "metadata": {
        "colab": {
          "base_uri": "https://localhost:8080/"
        },
        "id": "-64sYdR2yUz4",
        "outputId": "1951ce8d-da72-4c63-add5-cc7b79e4f579"
      },
      "execution_count": 10,
      "outputs": [
        {
          "output_type": "stream",
          "name": "stderr",
          "text": [
            "/usr/local/lib/python3.9/dist-packages/ipykernel/ipkernel.py:283: DeprecationWarning: `should_run_async` will not call `transform_cell` automatically in the future. Please pass the result to `transformed_cell` argument and any exception that happen during thetransform in `preprocessing_exc_tuple` in IPython 7.17 and above.\n",
            "  and should_run_async(code)\n"
          ]
        }
      ]
    },
    {
      "cell_type": "code",
      "source": [
        "env = EcoDrivingEnv()"
      ],
      "metadata": {
        "id": "LcbwFLuBUOb6"
      },
      "execution_count": 11,
      "outputs": []
    },
    {
      "cell_type": "code",
      "source": [
        "# env.action_space.sample()\n",
        "# env.observation_space.sample()"
      ],
      "metadata": {
        "colab": {
          "base_uri": "https://localhost:8080/"
        },
        "id": "drQyPYzpUTdl",
        "outputId": "5ae5f0ca-5296-439d-a373-cf7d663188c6"
      },
      "execution_count": 22,
      "outputs": [
        {
          "output_type": "execute_result",
          "data": {
            "text/plain": [
              "array([0.18387417, 0.84886354], dtype=float32)"
            ]
          },
          "metadata": {},
          "execution_count": 22
        }
      ]
    },
    {
      "cell_type": "code",
      "source": [
        "episode = 10\n",
        "for episode in range(1, episodes+1)"
      ],
      "metadata": {
        "id": "pB2XhTNeU_8Y"
      },
      "execution_count": null,
      "outputs": []
    },
    {
      "cell_type": "markdown",
      "source": [
        "> Example implementation of the **DQN algorithm** using the EcoDrivingEnv environment given by ChatGPT"
      ],
      "metadata": {
        "id": "Z0d58r4666bH"
      }
    },
    {
      "cell_type": "code",
      "source": [
        "\n",
        "import gym\n",
        "import random\n",
        "import numpy as np\n",
        "from collections import deque\n",
        "from keras.models import Sequential\n",
        "from keras.layers import Dense\n",
        "from keras.optimizers import Adam\n",
        "\n",
        "EPISODES = 1000\n",
        "MEMORY_SIZE = 1000000\n",
        "BATCH_SIZE = 64\n",
        "GAMMA = 0.95\n",
        "LEARNING_RATE = 0.001\n",
        "EPSILON = 1.0\n",
        "EPSILON_DECAY = 0.995\n",
        "MIN_EPSILON = 0.01\n",
        "\n",
        "class DQNAgent:\n",
        "    def __init__(self, state_size, action_size):\n",
        "        self.state_size = state_size\n",
        "        self.action_size = action_size\n",
        "        self.memory = deque(maxlen=MEMORY_SIZE)\n",
        "        self.model = self._build_model()\n",
        "        self.target_model = self._build_model()\n",
        "        self.update_target_model()\n",
        "\n",
        "    def _build_model(self):\n",
        "        model = Sequential()\n",
        "        model.add(Dense(24, input_dim=self.state_size, activation='relu'))\n",
        "        model.add(Dense(24, activation='relu'))\n",
        "        model.add(Dense(self.action_size, activation='linear'))\n",
        "        model.compile(loss='mse', optimizer=Adam(lr=LEARNING_RATE))\n",
        "        return model\n",
        "\n",
        "    def update_target_model(self):\n",
        "        self.target_model.set_weights(self.model.get_weights())\n",
        "\n",
        "    def remember(self, state, action, reward, next_state, done):\n",
        "        self.memory.append((state, action, reward, next_state, done))\n",
        "\n",
        "    def act(self, state, epsilon):\n",
        "        if np.random.rand() <= epsilon:\n",
        "            return np.random.choice(self.action_size)\n",
        "        else:\n",
        "            return np.argmax(self.model.predict(state)[0])\n",
        "\n",
        "    def replay(self):\n",
        "        if len(self.memory) < BATCH_SIZE:\n",
        "            return\n",
        "        minibatch = random.sample(self.memory, BATCH_SIZE)\n",
        "        states, targets = [], []\n",
        "        for state, action, reward, next_state, done in minibatch:\n",
        "            target = self.model.predict(state)\n",
        "            if done:\n",
        "                target[0][action] = reward\n",
        "            else:\n",
        "                target[0][action] = reward + GAMMA * np.amax(self.target_model.predict(next_state)[0])\n",
        "            states.append(state[0])\n",
        "            targets.append(target[0])\n",
        "        self.model.fit(np.array(states), np.array(targets), epochs=1, verbose=0)\n",
        "\n",
        "    def load(self, name):\n",
        "        self.model.load_weights(name)\n",
        "\n",
        "    def save(self, name):\n",
        "        self.model.save_weights(name)\n",
        "\n",
        "def train_dqn(env):\n",
        "    state_size = env.observation_space.shape[0]\n",
        "    action_size = env.action_space.n\n",
        "    agent = DQNAgent(state_size, action_size)\n",
        "    done = False\n",
        "    for episode in range(EPISODES):\n",
        "        state = env.reset()\n",
        "        state = np.reshape(state, [1, state_size])\n",
        "        done = False\n",
        "        total_reward = 0\n",
        "        while not done:\n",
        "            action = agent.act(state, EPSILON)\n",
        "            next_state, reward, done, info = env.step(action)\n",
        "            next_state = np.reshape(next_state, [1, state_size])\n",
        "            agent.remember(state, action, reward, next_state, done)\n",
        "            state = next_state\n",
        "            total_reward += reward\n",
        "            if len(agent.memory) > BATCH_SIZE:\n",
        "                agent.replay()\n",
        "                agent.update_target_model()\n",
        "        EPSILON = max(MIN_EPSILON, EPSILON_DECAY * EPSILON)\n",
        "        print(\"Episode: %d, Total Reward: %d\" % (episode, total_reward))\n",
        "        if episode % 50 == 0:\n",
        "            agent.save(\"dqn_model.h5\")\n",
        "\n",
        "if __name__ == \"__\"\n"
      ],
      "metadata": {
        "colab": {
          "base_uri": "https://localhost:8080/",
          "height": 133
        },
        "id": "fXzACvV66lm1",
        "outputId": "528bb5ef-8dfe-4db2-aa6e-e22ae24622f4"
      },
      "execution_count": 8,
      "outputs": [
        {
          "output_type": "error",
          "ename": "SyntaxError",
          "evalue": "ignored",
          "traceback": [
            "\u001b[0;36m  File \u001b[0;32m\"<ipython-input-8-b4d68e7a018f>\"\u001b[0;36m, line \u001b[0;32m93\u001b[0m\n\u001b[0;31m    if __name__ == \"__\"\u001b[0m\n\u001b[0m                       ^\u001b[0m\n\u001b[0;31mSyntaxError\u001b[0m\u001b[0;31m:\u001b[0m invalid syntax\n"
          ]
        }
      ]
    },
    {
      "cell_type": "markdown",
      "source": [
        "> Code using pygame to display a straight road with single vehicle on it. \n",
        "\n",
        "> **WARNING: Cannot run in Colab**"
      ],
      "metadata": {
        "id": "g2nipGR2MFkz"
      }
    },
    {
      "cell_type": "code",
      "source": [
        "import pygame\n",
        "\n",
        "# Initialize Pygame\n",
        "pygame.init()\n",
        "\n",
        "# Set up the display\n",
        "screen_width = 800\n",
        "screen_height = 600\n",
        "screen = pygame.display.set_mode((screen_width, screen_height))\n",
        "pygame.display.set_caption(\"Simple Car Game\")\n",
        "\n",
        "# Colors\n",
        "black = (0, 0, 0)\n",
        "white = (255, 255, 255)\n",
        "gray = (128, 128, 128)\n",
        "green = (0, 200, 0)\n",
        "\n",
        "# Set up the road\n",
        "road_width = 600\n",
        "road_height = 100\n",
        "road_x = (screen_width - road_width) / 2\n",
        "road_y = screen_height - road_height - 200\n",
        "road_rect = pygame.Rect(road_x, road_y, road_width, road_height)\n",
        "\n",
        "# Set up the car\n",
        "car_width = 50\n",
        "car_height = 30\n",
        "car_x = (screen_width - car_width) / 2 - 250\n",
        "car_y = screen_height - car_height - 210\n",
        "car_rect = pygame.Rect(car_x, car_y, car_width, car_height)\n",
        "\n",
        "\n",
        "# Game loop\n",
        "running = True\n",
        "while running:\n",
        "    # Handle events\n",
        "    for event in pygame.event.get():\n",
        "        if event.type == pygame.QUIT:\n",
        "            running = False\n",
        "\n",
        "    # Clear the screen\n",
        "    screen.fill(white)\n",
        "\n",
        "    # Draw the road\n",
        "    pygame.draw.rect(screen, gray, road_rect)\n",
        "    pygame.draw.line(screen, white, (road_x, road_y + road_height/2), (road_x + road_width, road_y + road_height/2), 5)\n",
        "\n",
        "    # Draw the car shade\n",
        "    car_shade_surf = pygame.Surface((car_width, car_height))\n",
        "    car_shade_surf.set_alpha(100)  # Set the alpha value for transparency\n",
        "    car_shade_surf.fill((0, 0, 0))  # Fill the surface with black\n",
        "    screen.blit(car_shade_surf, (car_x-3, car_y-3))  # Blit the surface onto the screen\n",
        "\n",
        "    # Draw the car\n",
        "    pygame.draw.rect(screen, green, car_rect)\n",
        "\n",
        "    # Update the display\n",
        "    pygame.display.update()\n",
        "\n",
        "# Quit Pygame\n",
        "pygame.quit()\n"
      ],
      "metadata": {
        "colab": {
          "base_uri": "https://localhost:8080/",
          "height": 272
        },
        "id": "nPWAZjFhAeIB",
        "outputId": "e5d7e3dd-4fba-4bd2-e233-ae1db20d84d7"
      },
      "execution_count": 9,
      "outputs": [
        {
          "output_type": "error",
          "ename": "error",
          "evalue": "ignored",
          "traceback": [
            "\u001b[0;31m---------------------------------------------------------------------------\u001b[0m",
            "\u001b[0;31merror\u001b[0m                                     Traceback (most recent call last)",
            "\u001b[0;32m<ipython-input-9-c1ab36626aa7>\u001b[0m in \u001b[0;36m<cell line: 9>\u001b[0;34m()\u001b[0m\n\u001b[1;32m      7\u001b[0m \u001b[0mscreen_width\u001b[0m \u001b[0;34m=\u001b[0m \u001b[0;36m800\u001b[0m\u001b[0;34m\u001b[0m\u001b[0;34m\u001b[0m\u001b[0m\n\u001b[1;32m      8\u001b[0m \u001b[0mscreen_height\u001b[0m \u001b[0;34m=\u001b[0m \u001b[0;36m600\u001b[0m\u001b[0;34m\u001b[0m\u001b[0;34m\u001b[0m\u001b[0m\n\u001b[0;32m----> 9\u001b[0;31m \u001b[0mscreen\u001b[0m \u001b[0;34m=\u001b[0m \u001b[0mpygame\u001b[0m\u001b[0;34m.\u001b[0m\u001b[0mdisplay\u001b[0m\u001b[0;34m.\u001b[0m\u001b[0mset_mode\u001b[0m\u001b[0;34m(\u001b[0m\u001b[0;34m(\u001b[0m\u001b[0mscreen_width\u001b[0m\u001b[0;34m,\u001b[0m \u001b[0mscreen_height\u001b[0m\u001b[0;34m)\u001b[0m\u001b[0;34m)\u001b[0m\u001b[0;34m\u001b[0m\u001b[0;34m\u001b[0m\u001b[0m\n\u001b[0m\u001b[1;32m     10\u001b[0m \u001b[0mpygame\u001b[0m\u001b[0;34m.\u001b[0m\u001b[0mdisplay\u001b[0m\u001b[0;34m.\u001b[0m\u001b[0mset_caption\u001b[0m\u001b[0;34m(\u001b[0m\u001b[0;34m\"Simple Car Game\"\u001b[0m\u001b[0;34m)\u001b[0m\u001b[0;34m\u001b[0m\u001b[0;34m\u001b[0m\u001b[0m\n\u001b[1;32m     11\u001b[0m \u001b[0;34m\u001b[0m\u001b[0m\n",
            "\u001b[0;31merror\u001b[0m: No available video device"
          ]
        }
      ]
    }
  ]
}