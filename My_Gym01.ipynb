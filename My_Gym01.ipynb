{
  "nbformat": 4,
  "nbformat_minor": 0,
  "metadata": {
    "colab": {
      "provenance": [],
      "authorship_tag": "ABX9TyPu9JyMn/5JJSvfm0MjhpHx",
      "include_colab_link": true
    },
    "kernelspec": {
      "name": "python3",
      "display_name": "Python 3"
    },
    "language_info": {
      "name": "python"
    }
  },
  "cells": [
    {
      "cell_type": "markdown",
      "metadata": {
        "id": "view-in-github",
        "colab_type": "text"
      },
      "source": [
        "<a href=\"https://colab.research.google.com/github/LimaCondas/eco-driving-speed-rl/blob/main/My_Gym01.ipynb\" target=\"_parent\"><img src=\"https://colab.research.google.com/assets/colab-badge.svg\" alt=\"Open In Colab\"/></a>"
      ]
    },
    {
      "cell_type": "markdown",
      "source": [
        "#**0.Install Dependencies**\n",
        "\n",
        "---\n",
        "\n"
      ],
      "metadata": {
        "id": "ZsHKnip8uaR-"
      }
    },
    {
      "cell_type": "code",
      "execution_count": null,
      "metadata": {
        "id": "F9tIlbQ7tXg6"
      },
      "outputs": [],
      "source": [
        "!pip install gym\n",
        "!pip install numpy==1.20\n",
        "!pip install tensorflow==2.5.0\n",
        "!pip install keras\n",
        "!pip install keras-rl2\n",
        "!pip install torch"
      ]
    },
    {
      "cell_type": "markdown",
      "source": [
        "\n",
        "# **1. Test a Simple Eco-Driving Scenario**\n",
        "\n",
        "\n",
        "---\n",
        "\n",
        "\n"
      ],
      "metadata": {
        "id": "FmU-E2Ysk-7U"
      }
    },
    {
      "cell_type": "markdown",
      "source": [
        "> **import packages**"
      ],
      "metadata": {
        "id": "oFkFjNiqlIMU"
      }
    },
    {
      "cell_type": "code",
      "source": [
        "from gym import Env\n",
        "from gym.spaces import Discrete, Box\n",
        "import numpy as np\n",
        "import random"
      ],
      "metadata": {
        "id": "ZFqX2BABwjsQ"
      },
      "execution_count": 108,
      "outputs": []
    },
    {
      "cell_type": "markdown",
      "source": [
        "> **This block is EcoDrivingEnv**"
      ],
      "metadata": {
        "id": "Geq5S6bW6qCg"
      }
    },
    {
      "cell_type": "code",
      "source": [
        "import gym\n",
        "from gym import spaces\n",
        "import numpy as np\n",
        "import random\n",
        "\n",
        "class EcoDrivingEnv(gym.Env):\n",
        "    def __init__(self):\n",
        "        self.safe_speed_limit = 20 # m/s, equal 72kph\n",
        "        self.time_step = 0.1 # seconds\n",
        "        self.mass = 1000 # kg\n",
        "        self.gravity = 9.81 # m/s^2\n",
        "        self.MAX_SPEED = 40 # m/s, equal 144kph\n",
        "        self.friction_coefficient = 0.8\n",
        "        self.position = 0\n",
        "        self.speed = 0\n",
        "        self.work = 0\n",
        "        self.steps = 0\n",
        "        self.total_reward = 0\n",
        "        self.distance = 1000 # m\n",
        "        self.max_steps = 5000 # 5000 steps, 500s\n",
        "        self.max_acceleration = 1 # m/s^2\n",
        "\n",
        "        # Action Space deaccelerate, no action, accelerate\n",
        "        self.action_space = spaces.Discrete(3) \n",
        "\n",
        "        # Observation space [position, speed]\n",
        "        self.observation_space = spaces.Box(low=np.array([0, 0]), high=np.array([np.inf, np.inf]), dtype=np.float32)\n",
        "\n",
        "        print(\"Successfully Initialize EcoDrivingEnv.......\")\n",
        "\n",
        "    def reset(self):\n",
        "        self.position = 0\n",
        "        self.speed = 0\n",
        "        self.work = 0\n",
        "        self.steps = 0\n",
        "        self.total_reward = 0\n",
        "        return np.array([self.position, self.speed], dtype=np.float32)\n",
        "\n",
        "    def step(self, action):\n",
        "        # Apply action\n",
        "        if action == 0:\n",
        "            acceleration = -self.max_acceleration # -1\n",
        "        elif action == 1:\n",
        "            acceleration = 0\n",
        "        elif action == 2:\n",
        "            acceleration = self.max_acceleration # +1\n",
        "        else:\n",
        "            acceleration = 0\n",
        "\n",
        "\n",
        "        # Calculate new speed and position\n",
        "        new_speed = self.speed + acceleration * self.time_step # vt = v0 + a * dt\n",
        "        new_speed = np.clip(new_speed, 0, self.MAX_SPEED) # speed no bigger than max speed\n",
        "        # xt = x0 + vt + 0.5 * a * t^2\n",
        "        new_position = self.position + self.speed * self.time_step + 0.5 * acceleration * self.time_step ** 2\n",
        "\n",
        "        # Calculate work of friction force\n",
        "        friction_force = self.friction_coefficient * self.mass * acceleration # F = 0.8 * m * a\n",
        "        self.work += friction_force * (new_position - self.position) # W = F * dx\n",
        "\n",
        "        # Calculate deviation from safe speed limit\n",
        "        speed_deviation = abs(new_speed - self.safe_speed_limit)\n",
        "\n",
        "        # Calculate reward with normalization\n",
        "        reward = - 0.0015 * self.work / (self.work + speed_deviation) - 0.9985 * speed_deviation / (self.work + speed_deviation)\n",
        "\n",
        "        # Update state\n",
        "        self.position = new_position\n",
        "        self.speed = new_speed\n",
        "        self.steps += 1\n",
        "\n",
        "        # Check if episode is done, distance or steps satisfied\n",
        "        done = False\n",
        "        if self.position >= self.distance or self.steps >= self.max_steps:\n",
        "          done = True\n",
        "\n",
        "        # Update info dictionary with additional information\n",
        "        self.state = np.array([self.position, self.speed], dtype=np.float32)\n",
        "        info = {'friction_work': self.work, 'speed_deviation': speed_deviation}\n",
        "\n",
        "        # Return step information\n",
        "        return self.state, reward, done, info\n",
        "\n",
        "\n",
        "    def render(self):\n",
        "        print(f\"Position: {self.position:.2f}m, Speed: {self.speed:.2f}m/s, Work: {self.work:.2f}J, Steps: {self.steps}\")\n",
        "        pass"
      ],
      "metadata": {
        "id": "-64sYdR2yUz4"
      },
      "execution_count": 217,
      "outputs": []
    },
    {
      "cell_type": "markdown",
      "source": [
        "> **Examplify an Eco-Drving Env**"
      ],
      "metadata": {
        "id": "_vyFNGRsi-nO"
      }
    },
    {
      "cell_type": "code",
      "source": [
        "env = EcoDrivingEnv()"
      ],
      "metadata": {
        "id": "LcbwFLuBUOb6",
        "colab": {
          "base_uri": "https://localhost:8080/"
        },
        "outputId": "d1817260-192a-4012-99d6-10a1f0cdd0d9"
      },
      "execution_count": 112,
      "outputs": [
        {
          "output_type": "stream",
          "name": "stdout",
          "text": [
            "Successfully Initialize EcoDrivingEnv.......\n"
          ]
        }
      ]
    },
    {
      "cell_type": "markdown",
      "source": [
        "> **Test Environment with Random Action**"
      ],
      "metadata": {
        "id": "Mme9Yvk3lgJg"
      }
    },
    {
      "cell_type": "code",
      "source": [
        "# env.action_space.sample()\n",
        "# env.observation_space.sample()"
      ],
      "metadata": {
        "id": "drQyPYzpUTdl"
      },
      "execution_count": 113,
      "outputs": []
    },
    {
      "cell_type": "code",
      "source": [
        "episode = 10\n",
        "\n",
        "flag = 0\n",
        "position = []\n",
        "speed = []\n",
        "\n",
        "for episode in range(1, episode+1):\n",
        "  state = env.reset()\n",
        "  done = False\n",
        "  score = 0\n",
        "  \n",
        "  while not done:\n",
        "    action = random.choice([0, 1, 2])\n",
        "    n_state, reward, done, info = env.step(action)\n",
        "    score += reward\n",
        "\n",
        "    if not flag:\n",
        "      position.append(n_state[0])\n",
        "      speed.append(n_state[1])\n",
        "  flag = 1\n",
        "\n",
        "  print('===== Episode:{} Score:{} ====='.format(episode, int(score)))\n"
      ],
      "metadata": {
        "id": "pB2XhTNeU_8Y",
        "colab": {
          "base_uri": "https://localhost:8080/"
        },
        "outputId": "ffb2f226-7fc8-4963-fe8b-745dd2be04b2"
      },
      "execution_count": 114,
      "outputs": [
        {
          "output_type": "stream",
          "name": "stdout",
          "text": [
            "===== Episode:1 Score:-206 =====\n",
            "===== Episode:2 Score:-234 =====\n",
            "===== Episode:3 Score:-203 =====\n",
            "===== Episode:4 Score:-216 =====\n",
            "===== Episode:5 Score:-214 =====\n",
            "===== Episode:6 Score:-175 =====\n",
            "===== Episode:7 Score:-183 =====\n",
            "===== Episode:8 Score:-229 =====\n",
            "===== Episode:9 Score:-173 =====\n",
            "===== Episode:10 Score:-195 =====\n"
          ]
        }
      ]
    },
    {
      "cell_type": "markdown",
      "source": [
        "> **SAMPLE to plot the profile of position and speed in 1 episode**"
      ],
      "metadata": {
        "id": "J8eGKQuKiuTg"
      }
    },
    {
      "cell_type": "code",
      "source": [
        "# import matplotlib.pyplot as plt\n",
        "# import numpy as np\n",
        "\n",
        "# position_data = position\n",
        "# speed_data = speed\n",
        "\n",
        "# # Create a figure with 2 subplots for position and speed\n",
        "# fig, (ax1, ax2) = plt.subplots(1, 2, figsize=(8, 3))\n",
        "# fig.subplots_adjust(hspace=0.4)\n",
        "\n",
        "# # Plot position data\n",
        "# ax1.plot(position_data, '-')\n",
        "# ax1.set_title('Profile of Position')\n",
        "# ax1.set_xlabel('Time (step)')\n",
        "# ax1.set_ylabel('Position')\n",
        "\n",
        "# # Plot speed data\n",
        "# ax2.plot(speed_data, '-')\n",
        "# ax2.set_title('Profile of Speed')\n",
        "# ax2.set_xlabel('Time (step)')\n",
        "# ax2.set_ylabel('Speed')\n",
        "\n",
        "# # Display the plot\n",
        "# plt.show()\n"
      ],
      "metadata": {
        "id": "CQetOD6zh4sP"
      },
      "execution_count": 115,
      "outputs": []
    },
    {
      "cell_type": "markdown",
      "source": [
        "# **2. Create a Deep Learning Model with Keras**\n",
        "\n",
        "\n",
        "---\n",
        "\n"
      ],
      "metadata": {
        "id": "Z0d58r4666bH"
      }
    },
    {
      "cell_type": "code",
      "source": [
        "import numpy as np\n",
        "from collections import deque\n",
        "from tensorflow.keras.models import Sequential\n",
        "from tensorflow.keras.layers import Dense, Flatten\n",
        "from tensorflow.keras.optimizers import Adam"
      ],
      "metadata": {
        "id": "puqyZvqKnE_X"
      },
      "execution_count": 116,
      "outputs": []
    },
    {
      "cell_type": "code",
      "source": [
        "states = env.observation_space.shape\n",
        "actions = env.action_space.n"
      ],
      "metadata": {
        "id": "FPW0WsG4nXAb"
      },
      "execution_count": 117,
      "outputs": []
    },
    {
      "cell_type": "code",
      "source": [
        "states"
      ],
      "metadata": {
        "colab": {
          "base_uri": "https://localhost:8080/"
        },
        "id": "aULZoyCmouCT",
        "outputId": "0446a5bd-0b40-4921-d09d-46df2e6d67a1"
      },
      "execution_count": 118,
      "outputs": [
        {
          "output_type": "execute_result",
          "data": {
            "text/plain": [
              "(2,)"
            ]
          },
          "metadata": {},
          "execution_count": 118
        }
      ]
    },
    {
      "cell_type": "code",
      "source": [
        "def build_model(states, actions):\n",
        "  model = Sequential()\n",
        "  model.add(Flatten(input_shape=(1,) + states))  # Add a Flatten layer\n",
        "  model.add(Dense(24, activation='relu', input_shape=states))\n",
        "  model.add(Dense(24, activation='relu'))\n",
        "  model.add(Dense(actions, activation='linear'))\n",
        "  return model"
      ],
      "metadata": {
        "id": "QYcKLJU7pZow"
      },
      "execution_count": 119,
      "outputs": []
    },
    {
      "cell_type": "code",
      "source": [
        "del model"
      ],
      "metadata": {
        "id": "e5FGwy3znkkm"
      },
      "execution_count": 120,
      "outputs": []
    },
    {
      "cell_type": "code",
      "source": [
        "model = build_model(states, actions)\n",
        "model.summary()"
      ],
      "metadata": {
        "colab": {
          "base_uri": "https://localhost:8080/"
        },
        "id": "MQaNYhpRiKZg",
        "outputId": "88ae3b58-68ab-49b0-fd59-4819305c347b"
      },
      "execution_count": 121,
      "outputs": [
        {
          "output_type": "stream",
          "name": "stdout",
          "text": [
            "Model: \"sequential_7\"\n",
            "_________________________________________________________________\n",
            "Layer (type)                 Output Shape              Param #   \n",
            "=================================================================\n",
            "flatten_5 (Flatten)          (None, 2)                 0         \n",
            "_________________________________________________________________\n",
            "dense_21 (Dense)             (None, 24)                72        \n",
            "_________________________________________________________________\n",
            "dense_22 (Dense)             (None, 24)                600       \n",
            "_________________________________________________________________\n",
            "dense_23 (Dense)             (None, 3)                 75        \n",
            "=================================================================\n",
            "Total params: 747\n",
            "Trainable params: 747\n",
            "Non-trainable params: 0\n",
            "_________________________________________________________________\n"
          ]
        }
      ]
    },
    {
      "cell_type": "markdown",
      "source": [
        "# **3. Build Agent with keras-RL**\n",
        "\n",
        "\n",
        "---\n",
        "\n",
        "\n",
        "\n"
      ],
      "metadata": {
        "id": "n_n001pxnJpb"
      }
    },
    {
      "cell_type": "code",
      "source": [
        "from rl.agents import DQNAgent\n",
        "from rl.policy import BoltzmannQPolicy\n",
        "from rl.memory import SequentialMemory"
      ],
      "metadata": {
        "id": "7xEyMo4InRgR"
      },
      "execution_count": 95,
      "outputs": []
    },
    {
      "cell_type": "code",
      "source": [
        "def build_agent(model, actions):\n",
        "  policy = BoltzmannQPolicy()\n",
        "  memory = SequentialMemory(limit=50000, window_length=1)\n",
        "  dqn = DQNAgent(model=model, memory=memory, policy=policy, \n",
        "                 nb_actions=actions, nb_steps_warmup=10, target_model_update=1e-2)\n",
        "  return dqn"
      ],
      "metadata": {
        "id": "m9HltD3LnoFD"
      },
      "execution_count": 96,
      "outputs": []
    },
    {
      "cell_type": "code",
      "source": [
        "dqn = build_agent(model, actions)\n",
        "dqn.compile(Adam(lr=1e-3), metrics=['mae'])\n",
        "dqn.fit(env, nb_steps=50000, visualize=False, verbose=1)"
      ],
      "metadata": {
        "id": "_wtb6uzcnHpm"
      },
      "execution_count": null,
      "outputs": []
    },
    {
      "cell_type": "markdown",
      "source": [
        "# **4. Detail Code of DQN Model**\n",
        "\n",
        "---\n",
        "\n"
      ],
      "metadata": {
        "id": "K5I5-HTK8ajX"
      }
    },
    {
      "cell_type": "markdown",
      "source": [
        "\n",
        "\n",
        "> **This code block is DQN model https://github.com/indigoLovee/DQN/blob/main/DQN.py**\n",
        "\n"
      ],
      "metadata": {
        "id": "I4K2id1CnPME"
      }
    },
    {
      "cell_type": "code",
      "source": [
        "import torch as T\n",
        "import torch.nn as nn\n",
        "import torch.optim as optim\n",
        "import torch.nn.functional as F\n",
        "import numpy as np"
      ],
      "metadata": {
        "id": "IoJHAPEZAbpA"
      },
      "execution_count": 123,
      "outputs": []
    },
    {
      "cell_type": "markdown",
      "source": [
        "\n",
        "\n",
        "---\n",
        "> **Buffer.py**\n"
      ],
      "metadata": {
        "id": "b7XY94TbA7Px"
      }
    },
    {
      "cell_type": "code",
      "source": [
        "class ReplayBuffer:\n",
        "    def __init__(self, state_dim, action_dim, max_size, batch_size):\n",
        "        self.mem_size = max_size\n",
        "        self.batch_size = batch_size\n",
        "        self.mem_cnt = 0\n",
        "\n",
        "        self.state_memory = np.zeros((self.mem_size, state_dim))\n",
        "        self.action_memory = np.zeros((self.mem_size, ))\n",
        "        self.reward_memory = np.zeros((self.mem_size, ))\n",
        "        self.next_state_memory = np.zeros((self.mem_size, state_dim))\n",
        "        self.terminal_memory = np.zeros((self.mem_size, ), dtype=np.bool)\n",
        "\n",
        "    def store_transition(self, state, action, reward, state_, done):\n",
        "        mem_idx = self.mem_cnt % self.mem_size\n",
        "\n",
        "        self.state_memory[mem_idx] = state\n",
        "        self.action_memory[mem_idx] = action\n",
        "        self.reward_memory[mem_idx] = reward\n",
        "        self.next_state_memory[mem_idx] = state_\n",
        "        self.terminal_memory[mem_idx] = done\n",
        "\n",
        "        self.mem_cnt += 1\n",
        "\n",
        "    def sample_buffer(self):\n",
        "        mem_len = min(self.mem_size, self.mem_cnt)\n",
        "\n",
        "        batch = np.random.choice(mem_len, self.batch_size, replace=True)\n",
        "\n",
        "        states = self.state_memory[batch]\n",
        "        actions = self.action_memory[batch]\n",
        "        rewards = self.reward_memory[batch]\n",
        "        states_ = self.next_state_memory[batch]\n",
        "        terminals = self.terminal_memory[batch]\n",
        "\n",
        "        return states, actions, rewards, states_, terminals\n",
        "\n",
        "    def ready(self):\n",
        "        return self.mem_cnt > self.batch_size"
      ],
      "metadata": {
        "id": "CXxlX-AIAWfs"
      },
      "execution_count": 127,
      "outputs": []
    },
    {
      "cell_type": "markdown",
      "source": [
        "\n",
        "\n",
        "---\n",
        "> **DQN.py**\n"
      ],
      "metadata": {
        "id": "VgTRlOM_BAWe"
      }
    },
    {
      "cell_type": "code",
      "source": [
        "# from buffer import ReplayBuffer\n",
        "\n",
        "device = T.device(\"cuda:0\" if T.cuda.is_available() else \"cpu\")\n",
        "\n",
        "\n",
        "class DeepQNetwork(nn.Module):\n",
        "    def __init__(self, alpha, state_dim, action_dim, fc1_dim, fc2_dim):\n",
        "        super(DeepQNetwork, self).__init__()\n",
        "\n",
        "        self.fc1 = nn.Linear(state_dim, fc1_dim)\n",
        "        self.fc2 = nn.Linear(fc1_dim, fc2_dim)\n",
        "        self.q = nn.Linear(fc2_dim, action_dim)\n",
        "\n",
        "        self.optimizer = optim.Adam(self.parameters(), lr=alpha)\n",
        "        self.to(device)\n",
        "\n",
        "    def forward(self, state):\n",
        "        x = T.relu(self.fc1(state))\n",
        "        x = T.relu(self.fc2(x))\n",
        "\n",
        "        q = self.q(x)\n",
        "\n",
        "        return q\n",
        "\n",
        "    def save_checkpoint(self, checkpoint_file):\n",
        "        T.save(self.state_dict(), checkpoint_file, _use_new_zipfile_serialization=False)\n",
        "\n",
        "    def load_checkpoint(self, checkpoint_file):\n",
        "        self.load_state_dict(T.load(checkpoint_file))\n",
        "\n",
        "\n",
        "class DQN:\n",
        "    def __init__(self, alpha, state_dim, action_dim, fc1_dim, fc2_dim, ckpt_dir,\n",
        "                 gamma=0.99, tau=0.005, epsilon=1.0, eps_end=0.01, eps_dec=5e-4,\n",
        "                 max_size=1000000, batch_size=256):\n",
        "        self.tau = tau\n",
        "        self.gamma = gamma\n",
        "        self.epsilon = epsilon\n",
        "        self.eps_min = eps_end\n",
        "        self.eps_dec = eps_dec\n",
        "        self.batch_size = batch_size\n",
        "        self.action_space = [i for i in range(action_dim)]\n",
        "        self.checkpoint_dir = ckpt_dir\n",
        "\n",
        "        self.q_eval = DeepQNetwork(alpha=alpha, state_dim=state_dim, action_dim=action_dim,\n",
        "                                   fc1_dim=fc1_dim, fc2_dim=fc2_dim)\n",
        "        self.q_target = DeepQNetwork(alpha=alpha, state_dim=state_dim, action_dim=action_dim,\n",
        "                                     fc1_dim=fc1_dim, fc2_dim=fc2_dim)\n",
        "\n",
        "        self.memory = ReplayBuffer(state_dim=state_dim, action_dim=action_dim,\n",
        "                                   max_size=max_size, batch_size=batch_size)\n",
        "\n",
        "        self.update_network_parameters(tau=1.0)\n",
        "\n",
        "    def update_network_parameters(self, tau=None):\n",
        "        if tau is None:\n",
        "            tau = self.tau\n",
        "\n",
        "        for q_target_params, q_eval_params in zip(self.q_target.parameters(), self.q_eval.parameters()):\n",
        "            q_target_params.data.copy_(tau * q_eval_params + (1 - tau) * q_target_params)\n",
        "\n",
        "    def remember(self, state, action, reward, state_, done):\n",
        "        self.memory.store_transition(state, action, reward, state_, done)\n",
        "\n",
        "    def choose_action(self, observation, isTrain=True):\n",
        "        state = T.tensor([observation], dtype=T.float).to(device)\n",
        "        actions = self.q_eval.forward(state)\n",
        "        action = T.argmax(actions).item()\n",
        "\n",
        "        if (np.random.random() < self.epsilon) and isTrain:\n",
        "            action = np.random.choice(self.action_space)\n",
        "\n",
        "        return action\n",
        "\n",
        "    def learn(self):\n",
        "        if not self.memory.ready():\n",
        "            return\n",
        "\n",
        "        states, actions, rewards, next_states, terminals = self.memory.sample_buffer()\n",
        "        batch_idx = np.arange(self.batch_size)\n",
        "\n",
        "        states_tensor = T.tensor(states, dtype=T.float).to(device)\n",
        "        rewards_tensor = T.tensor(rewards, dtype=T.float).to(device)\n",
        "        next_states_tensor = T.tensor(next_states, dtype=T.float).to(device)\n",
        "        terminals_tensor = T.tensor(terminals).to(device)\n",
        "\n",
        "        with T.no_grad():\n",
        "            q_ = self.q_target.forward(next_states_tensor)\n",
        "            q_[terminals_tensor] = 0.0\n",
        "            target = rewards_tensor + self.gamma * T.max(q_, dim=-1)[0]\n",
        "        q = self.q_eval.forward(states_tensor)[batch_idx, actions]\n",
        "\n",
        "        loss = F.mse_loss(q, target.detach())\n",
        "        self.q_eval.optimizer.zero_grad()\n",
        "        loss.backward()\n",
        "        self.q_eval.optimizer.step()\n",
        "\n",
        "        self.update_network_parameters()\n",
        "        self.epsilon = self.epsilon - self.eps_dec if self.epsilon > self.eps_min else self.eps_min\n",
        "\n",
        "    def save_models(self, episode):\n",
        "        self.q_eval.save_checkpoint(self.checkpoint_dir + 'Q_eval/DQN_q_eval_{}.pth'.format(episode))\n",
        "        print('Saving Q_eval network successfully!')\n",
        "        self.q_target.save_checkpoint(self.checkpoint_dir + 'Q_target/DQN_Q_target_{}.pth'.format(episode))\n",
        "        print('Saving Q_target network successfully!')\n",
        "\n",
        "    def load_models(self, episode):\n",
        "        self.q_eval.load_checkpoint(self.checkpoint_dir + 'Q_eval/DQN_q_eval_{}.pth'.format(episode))\n",
        "        print('Loading Q_eval network successfully!')\n",
        "        self.q_target.load_checkpoint(self.checkpoint_dir + 'Q_target/DQN_Q_target_{}.pth'.format(episode))\n",
        "        print('Loading Q_target network successfully!')"
      ],
      "metadata": {
        "id": "fXzACvV66lm1"
      },
      "execution_count": 128,
      "outputs": []
    },
    {
      "cell_type": "markdown",
      "source": [
        "\n",
        "\n",
        "---\n",
        "> **utils.py**\n"
      ],
      "metadata": {
        "id": "N-3diSAMBKg4"
      }
    },
    {
      "cell_type": "code",
      "source": [
        "import os\n",
        "import matplotlib.pyplot as plt\n",
        "\n",
        "\n",
        "def plot_learning_curve(episodes, records, title, ylabel, figure_file):\n",
        "    plt.figure()\n",
        "    plt.plot(episodes, records, linestyle='-', color='r')\n",
        "    plt.title(title)\n",
        "    plt.xlabel('episode')\n",
        "    plt.ylabel(ylabel)\n",
        "\n",
        "    plt.show()\n",
        "    plt.savefig(figure_file)\n",
        "\n",
        "\n",
        "def create_directory(path: str, sub_dirs: list):\n",
        "    for sub_dir in sub_dirs:\n",
        "        if os.path.exists(path + sub_dir):\n",
        "            print(path + sub_dir + ' is already exist!')\n",
        "        else:\n",
        "            os.makedirs(path + sub_dir, exist_ok=True)\n",
        "            print(path + sub_dir + ' create successfully!')\n",
        "\n",
        "\n",
        "def save_best_profile(actions, states, episode):\n",
        "    best_action = np.argmax(actions)\n",
        "    best_state = np.argmax(states)\n",
        "    np.savez(f'best_profile_episode_{episode}.npz', best_action=best_action, best_state=best_state)\n",
        "\n",
        "\n",
        "def visualize_profile(rewards, states):\n",
        "  # create x-axis (episode) values\n",
        "  x = np.arange(1, len(rewards) + 1)\n",
        "\n",
        "  # create subplots with shared x-axis\n",
        "  fig, (ax1, ax2, ax3) = plt.subplots(1, 3, sharex=False, figsize=(15, 4))\n",
        "\n",
        "  # plot rewards\n",
        "  ax1.plot(x, rewards, color='r', label='Rewards')\n",
        "  ax1.set_ylabel('Rewards')\n",
        "\n",
        "  # plot Position\n",
        "  ax2.plot(x, states[:,0],  color='g', label='Position')\n",
        "  ax2.set_ylabel('Position')\n",
        "  ax2.legend()\n",
        "\n",
        "  # plot Speed\n",
        "  ax3.plot(x, states[:,1],  color='b', label='Speed')\n",
        "  ax3.set_ylabel('Speed')\n",
        "  ax3.legend()\n",
        "\n",
        "  # add x-axis label\n",
        "  plt.xlabel('Episode')\n",
        "\n",
        "  # show the chart\n",
        "  plt.show()"
      ],
      "metadata": {
        "id": "ILU7OGv2A4_b"
      },
      "execution_count": 202,
      "outputs": []
    },
    {
      "cell_type": "code",
      "source": [
        "import argparse\n",
        "# from DQN import DQN\n",
        "# from utils import plot_learning_curve, create_directory\n",
        "\n",
        "parser = argparse.ArgumentParser()\n",
        "parser.add_argument('--max_episodes', type=int, default=500)\n",
        "parser.add_argument('--ckpt_dir', type=str, default='./checkpoints/DQN/')\n",
        "parser.add_argument('--reward_path', type=str, default='./output_images/avg_reward.png')\n",
        "parser.add_argument('--epsilon_path', type=str, default='./output_images/epsilon.png')\n",
        "\n",
        "args, unknown = parser.parse_known_args()\n",
        "\n",
        "\n",
        "def main():\n",
        "    env = EcoDrivingEnv()\n",
        "\n",
        "    agent = DQN(alpha=0.0003, state_dim=env.observation_space.shape[0], action_dim=env.action_space.n,\n",
        "                fc1_dim=256, fc2_dim=256, ckpt_dir=args.ckpt_dir, gamma=0.99, tau=0.005, epsilon=1.0,\n",
        "                eps_end=0.05, eps_dec=5e-4, max_size=1000000, batch_size=256)\n",
        "    \n",
        "    create_directory(args.ckpt_dir, sub_dirs=['Q_eval', 'Q_target'])\n",
        "    total_rewards, avg_rewards, eps_history = [], [], []\n",
        "\n",
        "    for episode in range(args.max_episodes):\n",
        "        total_reward = 0\n",
        "        done = False\n",
        "        observation = env.reset()\n",
        "\n",
        "        # Record\n",
        "        states = []\n",
        "        rewards = []\n",
        "\n",
        "        while not done:\n",
        "            action = agent.choose_action(observation, isTrain=True)\n",
        "            observation_, reward, done, info = env.step(action)\n",
        "            agent.remember(observation, action, reward, observation_, done)\n",
        "            agent.learn()\n",
        "            total_reward += reward\n",
        "            observation = observation_\n",
        "\n",
        "            states.append(observation)\n",
        "            rewards.append(reward)\n",
        "            # print(info)\n",
        "            \n",
        "\n",
        "        total_rewards.append(total_reward)\n",
        "        avg_reward = np.mean(total_rewards[-100:])\n",
        "        avg_rewards.append(avg_reward)\n",
        "        eps_history.append(agent.epsilon)\n",
        "        \n",
        "        print('EP: {}\\t reward: {:.4}\\t avg_reward: {:.4}\\t epsilon: {:.4}'.\n",
        "              format(episode + 1, total_reward, avg_reward, agent.epsilon))\n",
        "        \n",
        "        states = np.array(states)\n",
        "        visualize_profile(rewards, states)\n",
        "        \n",
        "\n",
        "\n",
        "        if (episode + 1) % 100 == 0:\n",
        "            agent.save_models(episode + 1)\n",
        "\n",
        "    episodes = [i for i in range(args.max_episodes)]\n",
        "    plot_learning_curve(episodes, avg_rewards, 'Reward', 'reward', args.reward_path)\n",
        "    plot_learning_curve(episodes, eps_history, 'Epsilon', 'epsilon', args.epsilon_path)\n",
        "\n",
        "\n",
        "if __name__ == '__main__':\n",
        "    main()"
      ],
      "metadata": {
        "id": "oVah6AN-BYQf"
      },
      "execution_count": null,
      "outputs": []
    },
    {
      "cell_type": "markdown",
      "source": [
        "> **Code using pygame to display a straight road with single vehicle on it.**\n",
        "\n",
        "> **WARNING: Cannot run in Colab**"
      ],
      "metadata": {
        "id": "g2nipGR2MFkz"
      }
    },
    {
      "cell_type": "code",
      "source": [
        "import pygame\n",
        "\n",
        "# Initialize Pygame\n",
        "pygame.init()\n",
        "\n",
        "# Set up the display\n",
        "screen_width = 800\n",
        "screen_height = 600\n",
        "screen = pygame.display.set_mode((screen_width, screen_height))\n",
        "pygame.display.set_caption(\"Simple Car Game\")\n",
        "\n",
        "# Colors\n",
        "black = (0, 0, 0)\n",
        "white = (255, 255, 255)\n",
        "gray = (128, 128, 128)\n",
        "green = (0, 200, 0)\n",
        "\n",
        "# Set up the road\n",
        "road_width = 600\n",
        "road_height = 100\n",
        "road_x = (screen_width - road_width) / 2\n",
        "road_y = screen_height - road_height - 200\n",
        "road_rect = pygame.Rect(road_x, road_y, road_width, road_height)\n",
        "\n",
        "# Set up the car\n",
        "car_width = 50\n",
        "car_height = 30\n",
        "car_x = (screen_width - car_width) / 2 - 250\n",
        "car_y = screen_height - car_height - 210\n",
        "car_rect = pygame.Rect(car_x, car_y, car_width, car_height)\n",
        "\n",
        "\n",
        "# Game loop\n",
        "running = True\n",
        "while running:\n",
        "    # Handle events\n",
        "    for event in pygame.event.get():\n",
        "        if event.type == pygame.QUIT:\n",
        "            running = False\n",
        "\n",
        "    # Clear the screen\n",
        "    screen.fill(white)\n",
        "\n",
        "    # Draw the road\n",
        "    pygame.draw.rect(screen, gray, road_rect)\n",
        "    pygame.draw.line(screen, white, (road_x, road_y + road_height/2), (road_x + road_width, road_y + road_height/2), 5)\n",
        "\n",
        "    # Draw the car shade\n",
        "    car_shade_surf = pygame.Surface((car_width, car_height))\n",
        "    car_shade_surf.set_alpha(100)  # Set the alpha value for transparency\n",
        "    car_shade_surf.fill((0, 0, 0))  # Fill the surface with black\n",
        "    screen.blit(car_shade_surf, (car_x-3, car_y-3))  # Blit the surface onto the screen\n",
        "\n",
        "    # Draw the car\n",
        "    pygame.draw.rect(screen, green, car_rect)\n",
        "\n",
        "    # Update the display\n",
        "    pygame.display.update()\n",
        "\n",
        "# Quit Pygame\n",
        "pygame.quit()\n"
      ],
      "metadata": {
        "id": "nPWAZjFhAeIB"
      },
      "execution_count": null,
      "outputs": []
    }
  ]
}