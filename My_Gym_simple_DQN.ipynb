{
 "nbformat": 4,
 "nbformat_minor": 0,
 "metadata": {
  "colab": {
   "provenance": []
  },
  "kernelspec": {
   "name": "python3",
   "display_name": "Python 3"
  },
  "language_info": {
   "name": "python"
  }
 },
 "cells": [
  {
   "cell_type": "markdown",
   "source": [
    "# Description of Eco-Driving Environment .ipynb File\n",
    "\n",
    "This file contains a simple implementation of the Eco-Driving OpenAI Gym environment, using Python and the PyTorch library. **The environment simulates a car driving scenario on a straight, flat road with no air friction or inner cost.** The traction force is assumed to be fully converted into acceleration of the vehicle, and the car's speed can be controlled through acceleration and deacceleration actions.\n",
    "\n",
    "The reward system for this environment considers the traction work done and the speed deviation from a safety speed. **The PyTorch library is used to build a DQN (Deep Q-Network) model, which is then used to create an agent that interacts with the environment.**\n",
    "\n",
    "The EcoDrivingEnv class is defined and initialized in the notebook, providing a basic structure for the environment. A test environment is created and run with random actions to ensure that the environment is working as expected.\n",
    "\n",
    "The DQN model is then built using PyTorch to create an agent that interacts with the environment. The agent uses the DQN model to predict the best action to take in each state of the environment.\n",
    "\n",
    "Overall, this notebook is a simple implementation of an Eco-Driving OpenAI Gym environment, using PyTorch and a DQN model.This file was inspired by a Github repository https://github.com/indigoLovee/DQN, which provided guidance on implementing DQN model with Pytorch."
   ],
   "metadata": {
    "collapsed": false,
    "pycharm": {
     "name": "#%% md\n"
    }
   }
  },
  {
   "cell_type": "markdown",
   "source": [
    "# **0.Install Dependencies**\n",
    "\n",
    "---\n",
    "\n"
   ],
   "metadata": {
    "id": "ZsHKnip8uaR-",
    "pycharm": {
     "name": "#%% md\n"
    }
   }
  },
  {
   "cell_type": "code",
   "execution_count": null,
   "outputs": [],
   "source": [
    "# !pip install gym\n",
    "# !pip install numpy==1.20\n",
    "# !pip install tensorflow==2.5.0\n",
    "# !pip install keras\n",
    "# !pip install keras-rl2\n",
    "# !pip install torch"
   ],
   "metadata": {
    "collapsed": false,
    "pycharm": {
     "name": "#%%\n"
    }
   }
  },
  {
   "cell_type": "markdown",
   "source": [
    "\n",
    "# **1. Test a Simple Eco-Driving Scenario**\n",
    "\n",
    "\n",
    "---\n",
    "\n",
    "\n"
   ],
   "metadata": {
    "id": "FmU-E2Ysk-7U",
    "pycharm": {
     "name": "#%% md\n"
    }
   }
  },
  {
   "cell_type": "markdown",
   "source": [
    "> **import packages**"
   ],
   "metadata": {
    "id": "oFkFjNiqlIMU",
    "pycharm": {
     "name": "#%% md\n"
    }
   }
  },
  {
   "cell_type": "code",
   "source": [
    "from gym import Env\n",
    "from gym.spaces import Discrete, Box\n",
    "import numpy as np\n",
    "import random"
   ],
   "metadata": {
    "id": "ZFqX2BABwjsQ",
    "pycharm": {
     "name": "#%%\n"
    }
   },
   "execution_count": 2,
   "outputs": []
  },
  {
   "cell_type": "markdown",
   "source": [
    "> **This block is EcoDrivingEnv**"
   ],
   "metadata": {
    "id": "Geq5S6bW6qCg",
    "pycharm": {
     "name": "#%% md\n"
    }
   }
  },
  {
   "cell_type": "code",
   "source": [
    "import gym\n",
    "from gym import spaces\n",
    "import numpy as np\n",
    "import random\n",
    "\n",
    "class EcoDrivingEnv(gym.Env):\n",
    "    def __init__(self):\n",
    "        self.safe_speed_limit = 20 # m/s, equal 72kph\n",
    "        self.time_step = 0.1 # seconds\n",
    "        self.mass = 1000 # kg\n",
    "        self.gravity = 9.81 # m/s^2\n",
    "        self.MAX_SPEED = 40 # m/s, equal 144kph\n",
    "        self.friction_coefficient = 0.8\n",
    "        self.position = 0\n",
    "        self.speed = 20\n",
    "        self.work = 0\n",
    "        self.steps = 0\n",
    "        self.total_reward = 0\n",
    "        self.distance = 1000 # m\n",
    "        self.max_steps = 5000 # 5000 steps, 500s\n",
    "        self.max_acceleration = 1 # m/s^2\n",
    "\n",
    "        # Action Space deaccelerate, no action, accelerate\n",
    "        self.action_space = spaces.Discrete(3) \n",
    "\n",
    "        # Observation space [position, speed]\n",
    "        self.observation_space = spaces.Box(low=np.array([0, 0]), high=np.array([np.inf, np.inf]), dtype=np.float32)\n",
    "\n",
    "        print(\"Successfully Initialize EcoDrivingEnv.......\")\n",
    "\n",
    "    def reset(self):\n",
    "        self.position = 0\n",
    "        self.speed = 0\n",
    "        self.work = 0\n",
    "        self.steps = 0\n",
    "        self.total_reward = 0\n",
    "        return np.array([self.position, self.speed], dtype=np.float32)\n",
    "\n",
    "    def step(self, action):\n",
    "        # Apply action\n",
    "        if action == 0:\n",
    "            acceleration = -self.max_acceleration # -1\n",
    "        elif action == 1:\n",
    "            acceleration = 0\n",
    "        elif action == 2:\n",
    "            acceleration = self.max_acceleration # +1\n",
    "        else:\n",
    "            acceleration = 0\n",
    "\n",
    "\n",
    "        # Calculate new speed and position\n",
    "        new_speed = self.speed + acceleration * self.time_step # vt = v0 + a * dt\n",
    "        new_speed = np.clip(new_speed, 0, self.MAX_SPEED) # speed no bigger than max speed\n",
    "\n",
    "        # xt = x0 + vt + 0.5 * a * t^2\n",
    "        new_position = self.position + self.speed * self.time_step + 0.5 * acceleration * self.time_step ** 2\n",
    "\n",
    "        # Calculate work of friction force\n",
    "        friction_force = self.friction_coefficient * self.mass * acceleration # F = 0.8 * m * a\n",
    "        self.work += friction_force * (new_position - self.position) # W = F * dx\n",
    "\n",
    "        # Calculate speed deviation from safe speed limit\n",
    "        speed_deviation = abs(new_speed - self.safe_speed_limit)\n",
    "\n",
    "        # Calculate Reward\n",
    "        # reward = - 0.0002 * self.work  - 0.9998 * speed_deviation\n",
    "        reward = - 0.001 * self.work / (self.work + speed_deviation) - 0.999 * speed_deviation / (self.work + speed_deviation)\n",
    "        # print('Work: {}\\t  speed_deviation:{}'.format(0.0005 * self.work, 0.9995 * speed_deviation))\n",
    "\n",
    "        # Update state\n",
    "        self.position = new_position\n",
    "        self.speed = new_speed\n",
    "        self.steps += 1\n",
    "\n",
    "        # Check if episode is done, distance or steps satisfied\n",
    "        done = False\n",
    "        if self.position >= self.distance or self.steps >= self.max_steps:\n",
    "          done = True\n",
    "\n",
    "        # Update info dictionary with additional information\n",
    "        self.state = np.array([self.position, self.speed], dtype=np.float32)\n",
    "        info = {'friction_work': self.work, 'speed_deviation': speed_deviation}\n",
    "\n",
    "        # Return step information\n",
    "        return self.state, reward, done, info\n",
    "\n",
    "\n",
    "    def render(self):\n",
    "        print(f\"Position: {self.position:.2f}m, Speed: {self.speed:.2f}m/s, Work: {self.work:.2f}J, Steps: {self.steps}\")\n",
    "        pass"
   ],
   "metadata": {
    "id": "-64sYdR2yUz4",
    "colab": {
     "base_uri": "https://localhost:8080/"
    },
    "outputId": "1b624f76-4012-4691-f477-1733f220bef5",
    "pycharm": {
     "name": "#%%\n"
    }
   },
   "execution_count": 3,
   "outputs": []
  },
  {
   "cell_type": "markdown",
   "source": [
    "> **Instantiate  an Eco-Drving Environment**"
   ],
   "metadata": {
    "id": "_vyFNGRsi-nO",
    "pycharm": {
     "name": "#%% md\n"
    }
   }
  },
  {
   "cell_type": "code",
   "source": [
    "env = EcoDrivingEnv()"
   ],
   "metadata": {
    "id": "LcbwFLuBUOb6",
    "colab": {
     "base_uri": "https://localhost:8080/"
    },
    "outputId": "c7fefe7e-e680-493b-c4f9-3c90bf270d2c",
    "pycharm": {
     "name": "#%%\n"
    }
   },
   "execution_count": 5,
   "outputs": [
    {
     "name": "stdout",
     "output_type": "stream",
     "text": [
      "Successfully Initialize EcoDrivingEnv.......\n"
     ]
    }
   ]
  },
  {
   "cell_type": "markdown",
   "source": [
    "> **Test Environment with Random Action**"
   ],
   "metadata": {
    "id": "Mme9Yvk3lgJg",
    "pycharm": {
     "name": "#%% md\n"
    }
   }
  },
  {
   "cell_type": "code",
   "source": [
    "# env.action_space.sample()\n",
    "# env.observation_space.sample()"
   ],
   "metadata": {
    "id": "drQyPYzpUTdl",
    "pycharm": {
     "name": "#%%\n"
    }
   },
   "execution_count": 6,
   "outputs": []
  },
  {
   "cell_type": "code",
   "source": [
    "episode = 10\n",
    "\n",
    "flag = 0\n",
    "position = []\n",
    "speed = []\n",
    "\n",
    "for episode in range(1, episode+1):\n",
    "  state = env.reset()\n",
    "  done = False\n",
    "  score = 0\n",
    "  \n",
    "  while not done:\n",
    "    action = random.choice([0, 1, 2])\n",
    "    n_state, reward, done, info = env.step(action)\n",
    "    score += reward\n",
    "\n",
    "    if not flag:\n",
    "      position.append(n_state[0])\n",
    "      speed.append(n_state[1])\n",
    "  flag = 1\n",
    "\n",
    "  print('===== Episode:{} Score:{} ====='.format(episode, int(score)))\n"
   ],
   "metadata": {
    "id": "pB2XhTNeU_8Y",
    "colab": {
     "base_uri": "https://localhost:8080/"
    },
    "outputId": "c3ba4fce-9320-4fcf-c1d2-f2f8c3a2d6a2",
    "pycharm": {
     "name": "#%%\n"
    }
   },
   "execution_count": 7,
   "outputs": [
    {
     "name": "stdout",
     "output_type": "stream",
     "text": [
      "===== Episode:1 Score:-137 =====\n",
      "===== Episode:2 Score:-192 =====\n",
      "===== Episode:3 Score:-132 =====\n",
      "===== Episode:4 Score:-157 =====\n",
      "===== Episode:5 Score:-254 =====\n",
      "===== Episode:6 Score:-132 =====\n",
      "===== Episode:7 Score:-292 =====\n",
      "===== Episode:8 Score:-83 =====\n",
      "===== Episode:9 Score:-188 =====\n",
      "===== Episode:10 Score:-107 =====\n"
     ]
    }
   ]
  },
  {
   "cell_type": "markdown",
   "source": [
    "# **2. Code of DQN Model**\n",
    "\n",
    "---\n",
    "\n"
   ],
   "metadata": {
    "id": "K5I5-HTK8ajX",
    "pycharm": {
     "name": "#%% md\n"
    }
   }
  },
  {
   "cell_type": "code",
   "source": [
    "import torch as T\n",
    "import torch.nn as nn\n",
    "import torch.optim as optim\n",
    "import torch.nn.functional as F\n",
    "import numpy as np"
   ],
   "metadata": {
    "id": "IoJHAPEZAbpA",
    "pycharm": {
     "name": "#%%\n"
    }
   },
   "execution_count": 30,
   "outputs": []
  },
  {
   "cell_type": "markdown",
   "source": [
    "\n",
    "\n",
    "---\n",
    "> **Buffer.py**\n"
   ],
   "metadata": {
    "id": "b7XY94TbA7Px",
    "pycharm": {
     "name": "#%% md\n"
    }
   }
  },
  {
   "cell_type": "code",
   "source": [
    "class ReplayBuffer:\n",
    "    def __init__(self, state_dim, action_dim, max_size, batch_size):\n",
    "        self.mem_size = max_size\n",
    "        self.batch_size = batch_size\n",
    "        self.mem_cnt = 0\n",
    "\n",
    "        self.state_memory = np.zeros((self.mem_size, state_dim))\n",
    "        self.action_memory = np.zeros((self.mem_size, ))\n",
    "        self.reward_memory = np.zeros((self.mem_size, ))\n",
    "        self.next_state_memory = np.zeros((self.mem_size, state_dim))\n",
    "        self.terminal_memory = np.zeros((self.mem_size, ), dtype=np.bool)\n",
    "\n",
    "    def store_transition(self, state, action, reward, state_, done):\n",
    "        mem_idx = self.mem_cnt % self.mem_size\n",
    "\n",
    "        self.state_memory[mem_idx] = state\n",
    "        self.action_memory[mem_idx] = action\n",
    "        self.reward_memory[mem_idx] = reward\n",
    "        self.next_state_memory[mem_idx] = state_\n",
    "        self.terminal_memory[mem_idx] = done\n",
    "\n",
    "        self.mem_cnt += 1\n",
    "\n",
    "    def sample_buffer(self):\n",
    "        mem_len = min(self.mem_size, self.mem_cnt)\n",
    "\n",
    "        batch = np.random.choice(mem_len, self.batch_size, replace=True)\n",
    "\n",
    "        states = self.state_memory[batch]\n",
    "        actions = self.action_memory[batch]\n",
    "        rewards = self.reward_memory[batch]\n",
    "        states_ = self.next_state_memory[batch]\n",
    "        terminals = self.terminal_memory[batch]\n",
    "\n",
    "        return states, actions, rewards, states_, terminals\n",
    "\n",
    "    def ready(self):\n",
    "        return self.mem_cnt > self.batch_size"
   ],
   "metadata": {
    "id": "CXxlX-AIAWfs",
    "pycharm": {
     "name": "#%%\n"
    }
   },
   "execution_count": 25,
   "outputs": []
  },
  {
   "cell_type": "markdown",
   "source": [
    "\n",
    "\n",
    "---\n",
    "> **DQN.py**\n"
   ],
   "metadata": {
    "id": "VgTRlOM_BAWe",
    "pycharm": {
     "name": "#%% md\n"
    }
   }
  },
  {
   "cell_type": "code",
   "source": [
    "# from buffer import ReplayBuffer\n",
    "\n",
    "device = T.device(\"cuda:0\" if T.cuda.is_available() else \"cpu\")\n",
    "\n",
    "\n",
    "class DeepQNetwork(nn.Module):\n",
    "    def __init__(self, alpha, state_dim, action_dim, fc1_dim, fc2_dim):\n",
    "        super(DeepQNetwork, self).__init__()\n",
    "\n",
    "        self.fc1 = nn.Linear(state_dim, fc1_dim)\n",
    "        self.fc2 = nn.Linear(fc1_dim, fc2_dim)\n",
    "        self.q = nn.Linear(fc2_dim, action_dim)\n",
    "\n",
    "        self.optimizer = optim.Adam(self.parameters(), lr=alpha)\n",
    "        self.to(device)\n",
    "\n",
    "    def forward(self, state):\n",
    "        x = T.relu(self.fc1(state))\n",
    "        x = T.relu(self.fc2(x))\n",
    "\n",
    "        q = self.q(x)\n",
    "\n",
    "        return q\n",
    "\n",
    "    def save_checkpoint(self, checkpoint_file):\n",
    "        T.save(self.state_dict(), checkpoint_file, _use_new_zipfile_serialization=False)\n",
    "\n",
    "    def load_checkpoint(self, checkpoint_file):\n",
    "        self.load_state_dict(T.load(checkpoint_file))\n",
    "\n",
    "\n",
    "class DQN:\n",
    "    def __init__(self, alpha, state_dim, action_dim, fc1_dim, fc2_dim, ckpt_dir,\n",
    "                 gamma=0.99, tau=0.005, epsilon=1.0, eps_end=0.01, eps_dec=5e-4,\n",
    "                 max_size=1000000, batch_size=256):\n",
    "        self.tau = tau\n",
    "        self.gamma = gamma\n",
    "        self.epsilon = epsilon\n",
    "        self.eps_min = eps_end\n",
    "        self.eps_dec = eps_dec\n",
    "        self.batch_size = batch_size\n",
    "        self.action_space = [i for i in range(action_dim)]\n",
    "        self.checkpoint_dir = ckpt_dir\n",
    "\n",
    "        self.q_eval = DeepQNetwork(alpha=alpha, state_dim=state_dim, action_dim=action_dim,\n",
    "                                   fc1_dim=fc1_dim, fc2_dim=fc2_dim)\n",
    "        self.q_target = DeepQNetwork(alpha=alpha, state_dim=state_dim, action_dim=action_dim,\n",
    "                                     fc1_dim=fc1_dim, fc2_dim=fc2_dim)\n",
    "\n",
    "        self.memory = ReplayBuffer(state_dim=state_dim, action_dim=action_dim,\n",
    "                                   max_size=max_size, batch_size=batch_size)\n",
    "\n",
    "        self.update_network_parameters(tau=1.0)\n",
    "\n",
    "    def update_network_parameters(self, tau=None):\n",
    "        if tau is None:\n",
    "            tau = self.tau\n",
    "\n",
    "        for q_target_params, q_eval_params in zip(self.q_target.parameters(), self.q_eval.parameters()):\n",
    "            q_target_params.data.copy_(tau * q_eval_params + (1 - tau) * q_target_params)\n",
    "\n",
    "    def remember(self, state, action, reward, state_, done):\n",
    "        self.memory.store_transition(state, action, reward, state_, done)\n",
    "\n",
    "    def choose_action(self, observation, isTrain=True):\n",
    "        state = T.tensor([observation], dtype=T.float).to(device)\n",
    "        actions = self.q_eval.forward(state)\n",
    "        action = T.argmax(actions).item()\n",
    "\n",
    "        if (np.random.random() < self.epsilon) and isTrain:\n",
    "            action = np.random.choice(self.action_space)\n",
    "\n",
    "        return action\n",
    "\n",
    "    def learn(self):\n",
    "        if not self.memory.ready():\n",
    "            return\n",
    "\n",
    "        states, actions, rewards, next_states, terminals = self.memory.sample_buffer()\n",
    "        batch_idx = np.arange(self.batch_size)\n",
    "\n",
    "        states_tensor = T.tensor(states, dtype=T.float).to(device)\n",
    "        rewards_tensor = T.tensor(rewards, dtype=T.float).to(device)\n",
    "        next_states_tensor = T.tensor(next_states, dtype=T.float).to(device)\n",
    "        terminals_tensor = T.tensor(terminals).to(device)\n",
    "\n",
    "        with T.no_grad():\n",
    "            q_ = self.q_target.forward(next_states_tensor)\n",
    "            q_[terminals_tensor] = 0.0\n",
    "            target = rewards_tensor + self.gamma * T.max(q_, dim=-1)[0]\n",
    "        q = self.q_eval.forward(states_tensor)[batch_idx, actions]\n",
    "\n",
    "        loss = F.mse_loss(q, target.detach())\n",
    "        self.q_eval.optimizer.zero_grad()\n",
    "        loss.backward()\n",
    "        self.q_eval.optimizer.step()\n",
    "\n",
    "        self.update_network_parameters()\n",
    "        self.epsilon = self.epsilon - self.eps_dec if self.epsilon > self.eps_min else self.eps_min\n",
    "\n",
    "    def save_models(self, episode):\n",
    "        self.q_eval.save_checkpoint(self.checkpoint_dir + 'Q_eval/DQN_q_eval_{}.pth'.format(episode))\n",
    "        print('Saving Q_eval network successfully!')\n",
    "        self.q_target.save_checkpoint(self.checkpoint_dir + 'Q_target/DQN_Q_target_{}.pth'.format(episode))\n",
    "        print('Saving Q_target network successfully!')\n",
    "\n",
    "    def load_models(self, episode):\n",
    "        self.q_eval.load_checkpoint(self.checkpoint_dir + 'Q_eval/DQN_q_eval_{}.pth'.format(episode))\n",
    "        print('Loading Q_eval network successfully!')\n",
    "        self.q_target.load_checkpoint(self.checkpoint_dir + 'Q_target/DQN_Q_target_{}.pth'.format(episode))\n",
    "        print('Loading Q_target network successfully!')"
   ],
   "metadata": {
    "id": "fXzACvV66lm1",
    "pycharm": {
     "name": "#%%\n"
    }
   },
   "execution_count": 26,
   "outputs": []
  },
  {
   "cell_type": "markdown",
   "source": [
    "\n",
    "\n",
    "---\n",
    "> **utils.py**\n"
   ],
   "metadata": {
    "id": "N-3diSAMBKg4",
    "pycharm": {
     "name": "#%% md\n"
    }
   }
  },
  {
   "cell_type": "code",
   "source": [
    "import os\n",
    "import matplotlib.pyplot as plt\n",
    "\n",
    "\n",
    "def plot_learning_curve(episodes, records, title, ylabel, figure_file):\n",
    "    plt.figure()\n",
    "    plt.plot(episodes, records, linestyle='-', color='r')\n",
    "    plt.title(title)\n",
    "    plt.xlabel('episode')\n",
    "    plt.ylabel(ylabel)\n",
    "\n",
    "    plt.show()\n",
    "    plt.savefig(figure_file)\n",
    "\n",
    "\n",
    "def create_directory(path: str, sub_dirs: list):\n",
    "    for sub_dir in sub_dirs:\n",
    "        if os.path.exists(path + sub_dir):\n",
    "            print(path + sub_dir + ' is already exist!')\n",
    "        else:\n",
    "            os.makedirs(path + sub_dir, exist_ok=True)\n",
    "            print(path + sub_dir + ' create successfully!')\n",
    "\n",
    "\n",
    "def save_best_profile(actions, states, episode):\n",
    "    best_action = np.argmax(actions)\n",
    "    best_state = np.argmax(states)\n",
    "    np.savez(f'best_profile_episode_{episode}.npz', best_action=best_action, best_state=best_state)\n",
    "\n",
    "\n",
    "def visualize_profile(rewards, states):\n",
    "    # create x-axis (episode) values\n",
    "    x = np.arange(1, len(rewards) + 1)\n",
    "\n",
    "    # create subplots with shared x-axis\n",
    "    fig, (ax1, ax2, ax3) = plt.subplots(1, 3, sharex=False, figsize=(15, 4))\n",
    "\n",
    "    # plot rewards\n",
    "    ax1.plot(x, rewards, color='r', label='Rewards')\n",
    "    ax1.set_ylabel('Rewards')\n",
    "\n",
    "    # plot Position\n",
    "    ax2.plot(x, states[:,0],  color='g', label='Position')\n",
    "    ax2.set_ylabel('Position')\n",
    "    ax2.legend()\n",
    "\n",
    "    # plot Speed\n",
    "    ax3.plot(x, states[:,1],  color='b', label='Speed')\n",
    "    ax3.set_ylabel('Speed')\n",
    "    ax3.legend()\n",
    "\n",
    "    # add x-axis label\n",
    "    plt.xlabel('Episode')\n",
    "\n",
    "    # show the chart\n",
    "    plt.show()"
   ],
   "metadata": {
    "id": "ILU7OGv2A4_b",
    "pycharm": {
     "name": "#%%\n"
    }
   },
   "execution_count": 27,
   "outputs": []
  },
  {
   "cell_type": "code",
   "source": [
    "import argparse\n",
    "# from DQN import DQN\n",
    "# from utils import plot_learning_curve, create_directory\n",
    "\n",
    "parser = argparse.ArgumentParser()\n",
    "parser.add_argument('--max_episodes', type=int, default=200)\n",
    "parser.add_argument('--ckpt_dir', type=str, default='./checkpoints/DQN/')\n",
    "parser.add_argument('--reward_path', type=str, default='./output_images/avg_reward.png')\n",
    "parser.add_argument('--epsilon_path', type=str, default='./output_images/epsilon.png')\n",
    "\n",
    "args, unknown = parser.parse_known_args()\n",
    "\n",
    "\n",
    "def main():\n",
    "    env = EcoDrivingEnv()\n",
    "\n",
    "    agent = DQN(alpha=0.0003, state_dim=env.observation_space.shape[0], action_dim=env.action_space.n,\n",
    "                fc1_dim=256, fc2_dim=256, ckpt_dir=args.ckpt_dir, gamma=0.99, tau=0.005, epsilon=1.0,\n",
    "                eps_end=0.05, eps_dec=5e-4, max_size=1000000, batch_size=256)\n",
    "    \n",
    "    create_directory(args.ckpt_dir, sub_dirs=['Q_eval', 'Q_target'])\n",
    "    total_rewards, avg_rewards, eps_history = [], [], []\n",
    "\n",
    "    for episode in range(args.max_episodes):\n",
    "        total_reward = 0\n",
    "        done = False\n",
    "        observation = env.reset()\n",
    "\n",
    "        # Record\n",
    "        states = []\n",
    "        rewards = []\n",
    "\n",
    "        while not done:\n",
    "            action = agent.choose_action(observation, isTrain=True)\n",
    "            observation_, reward, done, info = env.step(action)\n",
    "            agent.remember(observation, action, reward, observation_, done)\n",
    "            agent.learn()\n",
    "            total_reward += reward\n",
    "            observation = observation_\n",
    "\n",
    "            states.append(observation)\n",
    "            rewards.append(reward)\n",
    "            # print(info)\n",
    "            \n",
    "\n",
    "        total_rewards.append(total_reward)\n",
    "        avg_reward = np.mean(total_rewards[-100:])\n",
    "        avg_rewards.append(avg_reward)\n",
    "        eps_history.append(agent.epsilon)\n",
    "        \n",
    "        print('EP: {}\\t reward: {:.4}\\t avg_reward: {:.4}\\t epsilon: {:.4}'.\n",
    "              format(episode + 1, total_reward, avg_reward, agent.epsilon))\n",
    "        \n",
    "        states = np.array(states)\n",
    "\n",
    "        if (episode + 1) % 50 == 0:\n",
    "            visualize_profile(rewards, states)\n",
    "        \n",
    "\n",
    "\n",
    "        if (episode + 1) % 100 == 0:\n",
    "            agent.save_models(episode + 1)\n",
    "\n",
    "    episodes = [i for i in range(args.max_episodes)]\n",
    "    plot_learning_curve(episodes, avg_rewards, 'Reward', 'reward', args.reward_path)\n",
    "    plot_learning_curve(episodes, eps_history, 'Epsilon', 'epsilon', args.epsilon_path)\n",
    "\n",
    "\n",
    "if __name__ == '__main__':\n",
    "    main()"
   ],
   "metadata": {
    "id": "oVah6AN-BYQf",
    "colab": {
     "base_uri": "https://localhost:8080/",
     "height": 472
    },
    "outputId": "c6b6cfd2-1e1e-4835-ad95-3ef4cae8a2d0",
    "pycharm": {
     "name": "#%%\n"
    }
   },
   "execution_count": 29,
   "outputs": [
    {
     "name": "stdout",
     "output_type": "stream",
     "text": [
      "Successfully Initialize EcoDrivingEnv.......\n",
      "./checkpoints/DQN/Q_eval is already exist!\n",
      "./checkpoints/DQN/Q_target is already exist!\n"
     ]
    },
    {
     "name": "stderr",
     "output_type": "stream",
     "text": [
      "C:\\Users\\1\\AppData\\Local\\Temp\\ipykernel_8740\\3575947009.py:11: DeprecationWarning: `np.bool` is a deprecated alias for the builtin `bool`. To silence this warning, use `bool` by itself. Doing this will not modify any behavior and is safe. If you specifically wanted the numpy scalar type, use `np.bool_` here.\n",
      "Deprecated in NumPy 1.20; for more details and guidance: https://numpy.org/devdocs/release/1.20.0-notes.html#deprecations\n",
      "  self.terminal_memory = np.zeros((self.mem_size, ), dtype=np.bool)\n"
     ]
    },
    {
     "name": "stdout",
     "output_type": "stream",
     "text": [
      "EP: 1\t reward: -91.83\t avg_reward: -91.83\t epsilon: 0.1215\n",
      "EP: 2\t reward: -5.091\t avg_reward: -48.46\t epsilon: 0.05\n",
      "EP: 3\t reward: -3.762\t avg_reward: -33.56\t epsilon: 0.05\n",
      "EP: 4\t reward: -3.6\t avg_reward: -26.07\t epsilon: 0.05\n",
      "EP: 5\t reward: -3.691\t avg_reward: -21.6\t epsilon: 0.05\n",
      "EP: 6\t reward: -3.629\t avg_reward: -18.6\t epsilon: 0.05\n",
      "EP: 7\t reward: -3.687\t avg_reward: -16.47\t epsilon: 0.05\n",
      "EP: 8\t reward: -3.533\t avg_reward: -14.85\t epsilon: 0.05\n",
      "EP: 9\t reward: -3.504\t avg_reward: -13.59\t epsilon: 0.05\n",
      "EP: 10\t reward: -3.532\t avg_reward: -12.59\t epsilon: 0.05\n",
      "EP: 11\t reward: -3.536\t avg_reward: -11.76\t epsilon: 0.05\n",
      "EP: 12\t reward: -3.502\t avg_reward: -11.08\t epsilon: 0.05\n",
      "EP: 13\t reward: -3.556\t avg_reward: -10.5\t epsilon: 0.05\n",
      "EP: 14\t reward: -3.546\t avg_reward: -10.0\t epsilon: 0.05\n",
      "EP: 15\t reward: -3.873\t avg_reward: -9.592\t epsilon: 0.05\n",
      "EP: 16\t reward: -3.529\t avg_reward: -9.213\t epsilon: 0.05\n",
      "EP: 17\t reward: -3.563\t avg_reward: -8.88\t epsilon: 0.05\n",
      "EP: 18\t reward: -3.574\t avg_reward: -8.586\t epsilon: 0.05\n",
      "EP: 19\t reward: -5.414\t avg_reward: -8.419\t epsilon: 0.05\n",
      "EP: 20\t reward: -3.613\t avg_reward: -8.178\t epsilon: 0.05\n",
      "EP: 21\t reward: -3.724\t avg_reward: -7.966\t epsilon: 0.05\n",
      "EP: 22\t reward: -4.104\t avg_reward: -7.791\t epsilon: 0.05\n",
      "EP: 23\t reward: -3.479\t avg_reward: -7.603\t epsilon: 0.05\n",
      "EP: 24\t reward: -3.822\t avg_reward: -7.446\t epsilon: 0.05\n",
      "EP: 25\t reward: -3.601\t avg_reward: -7.292\t epsilon: 0.05\n",
      "EP: 26\t reward: -3.439\t avg_reward: -7.144\t epsilon: 0.05\n",
      "EP: 27\t reward: -3.505\t avg_reward: -7.009\t epsilon: 0.05\n",
      "EP: 28\t reward: -3.441\t avg_reward: -6.882\t epsilon: 0.05\n",
      "EP: 29\t reward: -4.063\t avg_reward: -6.784\t epsilon: 0.05\n",
      "EP: 30\t reward: -3.462\t avg_reward: -6.674\t epsilon: 0.05\n",
      "EP: 31\t reward: -3.456\t avg_reward: -6.57\t epsilon: 0.05\n",
      "EP: 32\t reward: -3.506\t avg_reward: -6.474\t epsilon: 0.05\n",
      "EP: 33\t reward: -3.666\t avg_reward: -6.389\t epsilon: 0.05\n",
      "EP: 34\t reward: -3.455\t avg_reward: -6.303\t epsilon: 0.05\n",
      "EP: 35\t reward: -3.483\t avg_reward: -6.222\t epsilon: 0.05\n",
      "EP: 36\t reward: -3.588\t avg_reward: -6.149\t epsilon: 0.05\n",
      "EP: 37\t reward: -3.445\t avg_reward: -6.076\t epsilon: 0.05\n",
      "EP: 38\t reward: -4.072\t avg_reward: -6.023\t epsilon: 0.05\n",
      "EP: 39\t reward: -3.665\t avg_reward: -5.963\t epsilon: 0.05\n",
      "EP: 40\t reward: -3.792\t avg_reward: -5.908\t epsilon: 0.05\n",
      "EP: 41\t reward: -4.073\t avg_reward: -5.864\t epsilon: 0.05\n",
      "EP: 42\t reward: -3.443\t avg_reward: -5.806\t epsilon: 0.05\n",
      "EP: 43\t reward: -3.778\t avg_reward: -5.759\t epsilon: 0.05\n",
      "EP: 44\t reward: -4.267\t avg_reward: -5.725\t epsilon: 0.05\n",
      "EP: 45\t reward: -3.441\t avg_reward: -5.674\t epsilon: 0.05\n",
      "EP: 46\t reward: -3.418\t avg_reward: -5.625\t epsilon: 0.05\n",
      "EP: 47\t reward: -3.703\t avg_reward: -5.584\t epsilon: 0.05\n",
      "EP: 48\t reward: -3.403\t avg_reward: -5.539\t epsilon: 0.05\n",
      "EP: 49\t reward: -3.834\t avg_reward: -5.504\t epsilon: 0.05\n",
      "EP: 50\t reward: -3.42\t avg_reward: -5.462\t epsilon: 0.05\n"
     ]
    },
    {
     "data": {
      "text/plain": "<Figure size 1080x288 with 3 Axes>",
      "image/png": "[encoded data removed]"
     },
     "metadata": {
      "needs_background": "light"
     },
     "output_type": "display_data"
    },
    {
     "name": "stdout",
     "output_type": "stream",
     "text": [
      "EP: 51\t reward: -3.891\t avg_reward: -5.432\t epsilon: 0.05\n",
      "EP: 52\t reward: -3.472\t avg_reward: -5.394\t epsilon: 0.05\n",
      "EP: 53\t reward: -3.434\t avg_reward: -5.357\t epsilon: 0.05\n",
      "EP: 54\t reward: -3.475\t avg_reward: -5.322\t epsilon: 0.05\n",
      "EP: 55\t reward: -3.391\t avg_reward: -5.287\t epsilon: 0.05\n",
      "EP: 56\t reward: -3.396\t avg_reward: -5.253\t epsilon: 0.05\n",
      "EP: 57\t reward: -3.397\t avg_reward: -5.221\t epsilon: 0.05\n",
      "EP: 58\t reward: -3.441\t avg_reward: -5.19\t epsilon: 0.05\n",
      "EP: 59\t reward: -3.424\t avg_reward: -5.16\t epsilon: 0.05\n",
      "EP: 60\t reward: -3.417\t avg_reward: -5.131\t epsilon: 0.05\n",
      "EP: 61\t reward: -4.351\t avg_reward: -5.118\t epsilon: 0.05\n",
      "EP: 62\t reward: -3.474\t avg_reward: -5.092\t epsilon: 0.05\n",
      "EP: 63\t reward: -3.392\t avg_reward: -5.065\t epsilon: 0.05\n",
      "EP: 64\t reward: -3.391\t avg_reward: -5.038\t epsilon: 0.05\n",
      "EP: 65\t reward: -3.493\t avg_reward: -5.015\t epsilon: 0.05\n",
      "EP: 66\t reward: -3.412\t avg_reward: -4.99\t epsilon: 0.05\n",
      "EP: 67\t reward: -3.421\t avg_reward: -4.967\t epsilon: 0.05\n",
      "EP: 68\t reward: -3.406\t avg_reward: -4.944\t epsilon: 0.05\n",
      "EP: 69\t reward: -3.527\t avg_reward: -4.923\t epsilon: 0.05\n",
      "EP: 70\t reward: -3.437\t avg_reward: -4.902\t epsilon: 0.05\n",
      "EP: 71\t reward: -3.386\t avg_reward: -4.881\t epsilon: 0.05\n",
      "EP: 72\t reward: -3.378\t avg_reward: -4.86\t epsilon: 0.05\n",
      "EP: 73\t reward: -3.395\t avg_reward: -4.84\t epsilon: 0.05\n",
      "EP: 74\t reward: -3.989\t avg_reward: -4.828\t epsilon: 0.05\n",
      "EP: 75\t reward: -3.473\t avg_reward: -4.81\t epsilon: 0.05\n",
      "EP: 76\t reward: -3.426\t avg_reward: -4.792\t epsilon: 0.05\n",
      "EP: 77\t reward: -3.361\t avg_reward: -4.774\t epsilon: 0.05\n",
      "EP: 78\t reward: -3.604\t avg_reward: -4.759\t epsilon: 0.05\n",
      "EP: 79\t reward: -3.361\t avg_reward: -4.741\t epsilon: 0.05\n",
      "EP: 80\t reward: -3.363\t avg_reward: -4.724\t epsilon: 0.05\n",
      "EP: 81\t reward: -3.357\t avg_reward: -4.707\t epsilon: 0.05\n",
      "EP: 82\t reward: -3.358\t avg_reward: -4.69\t epsilon: 0.05\n",
      "EP: 83\t reward: -3.364\t avg_reward: -4.674\t epsilon: 0.05\n",
      "EP: 84\t reward: -3.361\t avg_reward: -4.659\t epsilon: 0.05\n",
      "EP: 85\t reward: -3.91\t avg_reward: -4.65\t epsilon: 0.05\n",
      "EP: 86\t reward: -3.654\t avg_reward: -4.638\t epsilon: 0.05\n",
      "EP: 87\t reward: -3.357\t avg_reward: -4.624\t epsilon: 0.05\n",
      "EP: 88\t reward: -4.281\t avg_reward: -4.62\t epsilon: 0.05\n",
      "EP: 89\t reward: -3.381\t avg_reward: -4.606\t epsilon: 0.05\n",
      "EP: 90\t reward: -3.353\t avg_reward: -4.592\t epsilon: 0.05\n",
      "EP: 91\t reward: -4.435\t avg_reward: -4.59\t epsilon: 0.05\n",
      "EP: 92\t reward: -3.501\t avg_reward: -4.578\t epsilon: 0.05\n",
      "EP: 93\t reward: -3.966\t avg_reward: -4.572\t epsilon: 0.05\n",
      "EP: 94\t reward: -3.351\t avg_reward: -4.559\t epsilon: 0.05\n",
      "EP: 95\t reward: -3.454\t avg_reward: -4.547\t epsilon: 0.05\n",
      "EP: 96\t reward: -3.381\t avg_reward: -4.535\t epsilon: 0.05\n",
      "EP: 97\t reward: -3.513\t avg_reward: -4.524\t epsilon: 0.05\n",
      "EP: 98\t reward: -3.363\t avg_reward: -4.513\t epsilon: 0.05\n",
      "EP: 99\t reward: -4.756\t avg_reward: -4.515\t epsilon: 0.05\n",
      "EP: 100\t reward: -3.351\t avg_reward: -4.503\t epsilon: 0.05\n"
     ]
    },
    {
     "data": {
      "text/plain": "<Figure size 1080x288 with 3 Axes>",
      "image/png": "[encoded data removed]"
     },
     "metadata": {
      "needs_background": "light"
     },
     "output_type": "display_data"
    },
    {
     "name": "stdout",
     "output_type": "stream",
     "text": [
      "Saving Q_eval network successfully!\n",
      "Saving Q_target network successfully!\n",
      "EP: 101\t reward: -3.423\t avg_reward: -3.619\t epsilon: 0.05\n",
      "EP: 102\t reward: -4.178\t avg_reward: -3.61\t epsilon: 0.05\n",
      "EP: 103\t reward: -3.436\t avg_reward: -3.607\t epsilon: 0.05\n",
      "EP: 104\t reward: -3.363\t avg_reward: -3.605\t epsilon: 0.05\n",
      "EP: 105\t reward: -4.755\t avg_reward: -3.615\t epsilon: 0.05\n",
      "EP: 106\t reward: -3.411\t avg_reward: -3.613\t epsilon: 0.05\n",
      "EP: 107\t reward: -3.357\t avg_reward: -3.61\t epsilon: 0.05\n",
      "EP: 108\t reward: -3.369\t avg_reward: -3.608\t epsilon: 0.05\n",
      "EP: 109\t reward: -3.759\t avg_reward: -3.611\t epsilon: 0.05\n",
      "EP: 110\t reward: -3.353\t avg_reward: -3.609\t epsilon: 0.05\n",
      "EP: 111\t reward: -3.378\t avg_reward: -3.607\t epsilon: 0.05\n",
      "EP: 112\t reward: -3.348\t avg_reward: -3.606\t epsilon: 0.05\n",
      "EP: 113\t reward: -3.379\t avg_reward: -3.604\t epsilon: 0.05\n",
      "EP: 114\t reward: -3.351\t avg_reward: -3.602\t epsilon: 0.05\n",
      "EP: 115\t reward: -3.549\t avg_reward: -3.599\t epsilon: 0.05\n",
      "EP: 116\t reward: -3.365\t avg_reward: -3.597\t epsilon: 0.05\n",
      "EP: 117\t reward: -3.351\t avg_reward: -3.595\t epsilon: 0.05\n",
      "EP: 118\t reward: -3.351\t avg_reward: -3.593\t epsilon: 0.05\n",
      "EP: 119\t reward: -3.613\t avg_reward: -3.575\t epsilon: 0.05\n",
      "EP: 120\t reward: -4.084\t avg_reward: -3.579\t epsilon: 0.05\n",
      "EP: 121\t reward: -3.987\t avg_reward: -3.582\t epsilon: 0.05\n",
      "EP: 122\t reward: -3.425\t avg_reward: -3.575\t epsilon: 0.05\n",
      "EP: 123\t reward: -3.368\t avg_reward: -3.574\t epsilon: 0.05\n",
      "EP: 124\t reward: -3.384\t avg_reward: -3.57\t epsilon: 0.05\n",
      "EP: 125\t reward: -3.867\t avg_reward: -3.572\t epsilon: 0.05\n",
      "EP: 126\t reward: -3.527\t avg_reward: -3.573\t epsilon: 0.05\n",
      "EP: 127\t reward: -3.35\t avg_reward: -3.572\t epsilon: 0.05\n",
      "EP: 128\t reward: -3.363\t avg_reward: -3.571\t epsilon: 0.05\n",
      "EP: 129\t reward: -3.381\t avg_reward: -3.564\t epsilon: 0.05\n",
      "EP: 130\t reward: -3.395\t avg_reward: -3.564\t epsilon: 0.05\n",
      "EP: 131\t reward: -3.372\t avg_reward: -3.563\t epsilon: 0.05\n",
      "EP: 132\t reward: -3.796\t avg_reward: -3.566\t epsilon: 0.05\n",
      "EP: 133\t reward: -3.441\t avg_reward: -3.563\t epsilon: 0.05\n",
      "EP: 134\t reward: -3.393\t avg_reward: -3.563\t epsilon: 0.05\n",
      "EP: 135\t reward: -3.377\t avg_reward: -3.562\t epsilon: 0.05\n",
      "EP: 136\t reward: -3.379\t avg_reward: -3.56\t epsilon: 0.05\n",
      "EP: 137\t reward: -3.362\t avg_reward: -3.559\t epsilon: 0.05\n",
      "EP: 138\t reward: -3.47\t avg_reward: -3.553\t epsilon: 0.05\n",
      "EP: 139\t reward: -3.387\t avg_reward: -3.55\t epsilon: 0.05\n",
      "EP: 140\t reward: -3.451\t avg_reward: -3.547\t epsilon: 0.05\n",
      "EP: 141\t reward: -3.41\t avg_reward: -3.54\t epsilon: 0.05\n",
      "EP: 142\t reward: -3.477\t avg_reward: -3.54\t epsilon: 0.05\n",
      "EP: 143\t reward: -4.081\t avg_reward: -3.543\t epsilon: 0.05\n",
      "EP: 144\t reward: -3.508\t avg_reward: -3.536\t epsilon: 0.05\n",
      "EP: 145\t reward: -3.476\t avg_reward: -3.536\t epsilon: 0.05\n",
      "EP: 146\t reward: -3.423\t avg_reward: -3.536\t epsilon: 0.05\n",
      "EP: 147\t reward: -3.476\t avg_reward: -3.534\t epsilon: 0.05\n",
      "EP: 148\t reward: -3.556\t avg_reward: -3.535\t epsilon: 0.05\n",
      "EP: 149\t reward: -3.615\t avg_reward: -3.533\t epsilon: 0.05\n",
      "EP: 150\t reward: -3.421\t avg_reward: -3.533\t epsilon: 0.05\n"
     ]
    },
    {
     "data": {
      "text/plain": "<Figure size 1080x288 with 3 Axes>",
      "image/png": "[encoded data removed]"
     },
     "metadata": {
      "needs_background": "light"
     },
     "output_type": "display_data"
    },
    {
     "name": "stdout",
     "output_type": "stream",
     "text": [
      "EP: 151\t reward: -4.017\t avg_reward: -3.534\t epsilon: 0.05\n",
      "EP: 152\t reward: -3.434\t avg_reward: -3.534\t epsilon: 0.05\n",
      "EP: 153\t reward: -3.391\t avg_reward: -3.534\t epsilon: 0.05\n",
      "EP: 154\t reward: -3.543\t avg_reward: -3.534\t epsilon: 0.05\n",
      "EP: 155\t reward: -3.502\t avg_reward: -3.535\t epsilon: 0.05\n",
      "EP: 156\t reward: -3.467\t avg_reward: -3.536\t epsilon: 0.05\n",
      "EP: 157\t reward: -4.008\t avg_reward: -3.542\t epsilon: 0.05\n",
      "EP: 158\t reward: -3.417\t avg_reward: -3.542\t epsilon: 0.05\n",
      "EP: 159\t reward: -5.341\t avg_reward: -3.561\t epsilon: 0.05\n",
      "EP: 160\t reward: -4.421\t avg_reward: -3.571\t epsilon: 0.05\n",
      "EP: 161\t reward: -3.629\t avg_reward: -3.564\t epsilon: 0.05\n",
      "EP: 162\t reward: -3.599\t avg_reward: -3.565\t epsilon: 0.05\n",
      "EP: 163\t reward: -4.28\t avg_reward: -3.574\t epsilon: 0.05\n",
      "EP: 164\t reward: -3.715\t avg_reward: -3.577\t epsilon: 0.05\n",
      "EP: 165\t reward: -3.708\t avg_reward: -3.58\t epsilon: 0.05\n",
      "EP: 166\t reward: -4.759\t avg_reward: -3.593\t epsilon: 0.05\n",
      "EP: 167\t reward: -4.455\t avg_reward: -3.603\t epsilon: 0.05\n",
      "EP: 168\t reward: -3.589\t avg_reward: -3.605\t epsilon: 0.05\n",
      "EP: 169\t reward: -4.773\t avg_reward: -3.618\t epsilon: 0.05\n",
      "EP: 170\t reward: -3.585\t avg_reward: -3.619\t epsilon: 0.05\n",
      "EP: 171\t reward: -3.886\t avg_reward: -3.624\t epsilon: 0.05\n",
      "EP: 172\t reward: -3.674\t avg_reward: -3.627\t epsilon: 0.05\n",
      "EP: 173\t reward: -3.851\t avg_reward: -3.632\t epsilon: 0.05\n",
      "EP: 174\t reward: -3.822\t avg_reward: -3.63\t epsilon: 0.05\n",
      "EP: 175\t reward: -3.53\t avg_reward: -3.631\t epsilon: 0.05\n",
      "EP: 176\t reward: -3.673\t avg_reward: -3.633\t epsilon: 0.05\n",
      "EP: 177\t reward: -4.006\t avg_reward: -3.639\t epsilon: 0.05\n",
      "EP: 178\t reward: -3.892\t avg_reward: -3.642\t epsilon: 0.05\n",
      "EP: 179\t reward: -3.532\t avg_reward: -3.644\t epsilon: 0.05\n",
      "EP: 180\t reward: -3.627\t avg_reward: -3.647\t epsilon: 0.05\n",
      "EP: 181\t reward: -3.517\t avg_reward: -3.648\t epsilon: 0.05\n",
      "EP: 182\t reward: -3.809\t avg_reward: -3.653\t epsilon: 0.05\n",
      "EP: 183\t reward: -3.598\t avg_reward: -3.655\t epsilon: 0.05\n",
      "EP: 184\t reward: -3.659\t avg_reward: -3.658\t epsilon: 0.05\n",
      "EP: 185\t reward: -4.048\t avg_reward: -3.66\t epsilon: 0.05\n",
      "EP: 186\t reward: -6.344\t avg_reward: -3.686\t epsilon: 0.05\n",
      "EP: 187\t reward: -3.623\t avg_reward: -3.689\t epsilon: 0.05\n",
      "EP: 188\t reward: -41.62\t avg_reward: -4.062\t epsilon: 0.05\n",
      "EP: 189\t reward: -15.76\t avg_reward: -4.186\t epsilon: 0.05\n",
      "EP: 190\t reward: -24.2\t avg_reward: -4.395\t epsilon: 0.05\n",
      "EP: 191\t reward: -71.13\t avg_reward: -5.062\t epsilon: 0.05\n",
      "EP: 192\t reward: -23.14\t avg_reward: -5.258\t epsilon: 0.05\n",
      "EP: 193\t reward: -11.31\t avg_reward: -5.331\t epsilon: 0.05\n",
      "EP: 194\t reward: -5.49\t avg_reward: -5.353\t epsilon: 0.05\n",
      "EP: 195\t reward: -4.615\t avg_reward: -5.364\t epsilon: 0.05\n",
      "EP: 196\t reward: -3.794\t avg_reward: -5.369\t epsilon: 0.05\n",
      "EP: 197\t reward: -3.435\t avg_reward: -5.368\t epsilon: 0.05\n",
      "EP: 198\t reward: -5.19\t avg_reward: -5.386\t epsilon: 0.05\n",
      "EP: 199\t reward: -3.366\t avg_reward: -5.372\t epsilon: 0.05\n",
      "EP: 200\t reward: -3.453\t avg_reward: -5.373\t epsilon: 0.05\n"
     ]
    },
    {
     "data": {
      "text/plain": "<Figure size 1080x288 with 3 Axes>",
      "image/png": "[encoded data removed]"
     },
     "metadata": {
      "needs_background": "light"
     },
     "output_type": "display_data"
    },
    {
     "name": "stdout",
     "output_type": "stream",
     "text": [
      "Saving Q_eval network successfully!\n",
      "Saving Q_target network successfully!\n"
     ]
    },
    {
     "data": {
      "text/plain": "<Figure size 432x288 with 1 Axes>",
      "image/png": "[encoded data removed]"
     },
     "metadata": {
      "needs_background": "light"
     },
     "output_type": "display_data"
    },
    {
     "ename": "FileNotFoundError",
     "evalue": "[Errno 2] No such file or directory: './output_images/avg_reward.png'",
     "output_type": "error",
     "traceback": [
      "\u001B[1;31m---------------------------------------------------------------------------\u001B[0m",
      "\u001B[1;31mFileNotFoundError\u001B[0m                         Traceback (most recent call last)",
      "\u001B[1;32m~\\AppData\\Local\\Temp\\ipykernel_8740\\2351959852.py\u001B[0m in \u001B[0;36m<cell line: 69>\u001B[1;34m()\u001B[0m\n\u001B[0;32m     68\u001B[0m \u001B[1;33m\u001B[0m\u001B[0m\n\u001B[0;32m     69\u001B[0m \u001B[1;32mif\u001B[0m \u001B[0m__name__\u001B[0m \u001B[1;33m==\u001B[0m \u001B[1;34m'__main__'\u001B[0m\u001B[1;33m:\u001B[0m\u001B[1;33m\u001B[0m\u001B[1;33m\u001B[0m\u001B[0m\n\u001B[1;32m---> 70\u001B[1;33m     \u001B[0mmain\u001B[0m\u001B[1;33m(\u001B[0m\u001B[1;33m)\u001B[0m\u001B[1;33m\u001B[0m\u001B[1;33m\u001B[0m\u001B[0m\n\u001B[0m",
      "\u001B[1;32m~\\AppData\\Local\\Temp\\ipykernel_8740\\2351959852.py\u001B[0m in \u001B[0;36mmain\u001B[1;34m()\u001B[0m\n\u001B[0;32m     63\u001B[0m \u001B[1;33m\u001B[0m\u001B[0m\n\u001B[0;32m     64\u001B[0m     \u001B[0mepisodes\u001B[0m \u001B[1;33m=\u001B[0m \u001B[1;33m[\u001B[0m\u001B[0mi\u001B[0m \u001B[1;32mfor\u001B[0m \u001B[0mi\u001B[0m \u001B[1;32min\u001B[0m \u001B[0mrange\u001B[0m\u001B[1;33m(\u001B[0m\u001B[0margs\u001B[0m\u001B[1;33m.\u001B[0m\u001B[0mmax_episodes\u001B[0m\u001B[1;33m)\u001B[0m\u001B[1;33m]\u001B[0m\u001B[1;33m\u001B[0m\u001B[1;33m\u001B[0m\u001B[0m\n\u001B[1;32m---> 65\u001B[1;33m     \u001B[0mplot_learning_curve\u001B[0m\u001B[1;33m(\u001B[0m\u001B[0mepisodes\u001B[0m\u001B[1;33m,\u001B[0m \u001B[0mavg_rewards\u001B[0m\u001B[1;33m,\u001B[0m \u001B[1;34m'Reward'\u001B[0m\u001B[1;33m,\u001B[0m \u001B[1;34m'reward'\u001B[0m\u001B[1;33m,\u001B[0m \u001B[0margs\u001B[0m\u001B[1;33m.\u001B[0m\u001B[0mreward_path\u001B[0m\u001B[1;33m)\u001B[0m\u001B[1;33m\u001B[0m\u001B[1;33m\u001B[0m\u001B[0m\n\u001B[0m\u001B[0;32m     66\u001B[0m     \u001B[0mplot_learning_curve\u001B[0m\u001B[1;33m(\u001B[0m\u001B[0mepisodes\u001B[0m\u001B[1;33m,\u001B[0m \u001B[0meps_history\u001B[0m\u001B[1;33m,\u001B[0m \u001B[1;34m'Epsilon'\u001B[0m\u001B[1;33m,\u001B[0m \u001B[1;34m'epsilon'\u001B[0m\u001B[1;33m,\u001B[0m \u001B[0margs\u001B[0m\u001B[1;33m.\u001B[0m\u001B[0mepsilon_path\u001B[0m\u001B[1;33m)\u001B[0m\u001B[1;33m\u001B[0m\u001B[1;33m\u001B[0m\u001B[0m\n\u001B[0;32m     67\u001B[0m \u001B[1;33m\u001B[0m\u001B[0m\n",
      "\u001B[1;32m~\\AppData\\Local\\Temp\\ipykernel_8740\\1501213093.py\u001B[0m in \u001B[0;36mplot_learning_curve\u001B[1;34m(episodes, records, title, ylabel, figure_file)\u001B[0m\n\u001B[0;32m     11\u001B[0m \u001B[1;33m\u001B[0m\u001B[0m\n\u001B[0;32m     12\u001B[0m     \u001B[0mplt\u001B[0m\u001B[1;33m.\u001B[0m\u001B[0mshow\u001B[0m\u001B[1;33m(\u001B[0m\u001B[1;33m)\u001B[0m\u001B[1;33m\u001B[0m\u001B[1;33m\u001B[0m\u001B[0m\n\u001B[1;32m---> 13\u001B[1;33m     \u001B[0mplt\u001B[0m\u001B[1;33m.\u001B[0m\u001B[0msavefig\u001B[0m\u001B[1;33m(\u001B[0m\u001B[0mfigure_file\u001B[0m\u001B[1;33m)\u001B[0m\u001B[1;33m\u001B[0m\u001B[1;33m\u001B[0m\u001B[0m\n\u001B[0m\u001B[0;32m     14\u001B[0m \u001B[1;33m\u001B[0m\u001B[0m\n\u001B[0;32m     15\u001B[0m \u001B[1;33m\u001B[0m\u001B[0m\n",
      "\u001B[1;32mD:\\Anaconda\\envs\\my_gym\\lib\\site-packages\\matplotlib\\pyplot.py\u001B[0m in \u001B[0;36msavefig\u001B[1;34m(*args, **kwargs)\u001B[0m\n\u001B[0;32m   1021\u001B[0m \u001B[1;32mdef\u001B[0m \u001B[0msavefig\u001B[0m\u001B[1;33m(\u001B[0m\u001B[1;33m*\u001B[0m\u001B[0margs\u001B[0m\u001B[1;33m,\u001B[0m \u001B[1;33m**\u001B[0m\u001B[0mkwargs\u001B[0m\u001B[1;33m)\u001B[0m\u001B[1;33m:\u001B[0m\u001B[1;33m\u001B[0m\u001B[1;33m\u001B[0m\u001B[0m\n\u001B[0;32m   1022\u001B[0m     \u001B[0mfig\u001B[0m \u001B[1;33m=\u001B[0m \u001B[0mgcf\u001B[0m\u001B[1;33m(\u001B[0m\u001B[1;33m)\u001B[0m\u001B[1;33m\u001B[0m\u001B[1;33m\u001B[0m\u001B[0m\n\u001B[1;32m-> 1023\u001B[1;33m     \u001B[0mres\u001B[0m \u001B[1;33m=\u001B[0m \u001B[0mfig\u001B[0m\u001B[1;33m.\u001B[0m\u001B[0msavefig\u001B[0m\u001B[1;33m(\u001B[0m\u001B[1;33m*\u001B[0m\u001B[0margs\u001B[0m\u001B[1;33m,\u001B[0m \u001B[1;33m**\u001B[0m\u001B[0mkwargs\u001B[0m\u001B[1;33m)\u001B[0m\u001B[1;33m\u001B[0m\u001B[1;33m\u001B[0m\u001B[0m\n\u001B[0m\u001B[0;32m   1024\u001B[0m     \u001B[0mfig\u001B[0m\u001B[1;33m.\u001B[0m\u001B[0mcanvas\u001B[0m\u001B[1;33m.\u001B[0m\u001B[0mdraw_idle\u001B[0m\u001B[1;33m(\u001B[0m\u001B[1;33m)\u001B[0m  \u001B[1;31m# Need this if 'transparent=True', to reset colors.\u001B[0m\u001B[1;33m\u001B[0m\u001B[1;33m\u001B[0m\u001B[0m\n\u001B[0;32m   1025\u001B[0m     \u001B[1;32mreturn\u001B[0m \u001B[0mres\u001B[0m\u001B[1;33m\u001B[0m\u001B[1;33m\u001B[0m\u001B[0m\n",
      "\u001B[1;32mD:\\Anaconda\\envs\\my_gym\\lib\\site-packages\\matplotlib\\figure.py\u001B[0m in \u001B[0;36msavefig\u001B[1;34m(self, fname, transparent, **kwargs)\u001B[0m\n\u001B[0;32m   3341\u001B[0m                         ax.patch._cm_set(facecolor='none', edgecolor='none'))\n\u001B[0;32m   3342\u001B[0m \u001B[1;33m\u001B[0m\u001B[0m\n\u001B[1;32m-> 3343\u001B[1;33m             \u001B[0mself\u001B[0m\u001B[1;33m.\u001B[0m\u001B[0mcanvas\u001B[0m\u001B[1;33m.\u001B[0m\u001B[0mprint_figure\u001B[0m\u001B[1;33m(\u001B[0m\u001B[0mfname\u001B[0m\u001B[1;33m,\u001B[0m \u001B[1;33m**\u001B[0m\u001B[0mkwargs\u001B[0m\u001B[1;33m)\u001B[0m\u001B[1;33m\u001B[0m\u001B[1;33m\u001B[0m\u001B[0m\n\u001B[0m\u001B[0;32m   3344\u001B[0m \u001B[1;33m\u001B[0m\u001B[0m\n\u001B[0;32m   3345\u001B[0m     def ginput(self, n=1, timeout=30, show_clicks=True,\n",
      "\u001B[1;32mD:\\Anaconda\\envs\\my_gym\\lib\\site-packages\\matplotlib\\backend_bases.py\u001B[0m in \u001B[0;36mprint_figure\u001B[1;34m(self, filename, dpi, facecolor, edgecolor, orientation, format, bbox_inches, pad_inches, bbox_extra_artists, backend, **kwargs)\u001B[0m\n\u001B[0;32m   2364\u001B[0m                 \u001B[1;31m# force the figure dpi to 72), so we need to set it again here.\u001B[0m\u001B[1;33m\u001B[0m\u001B[1;33m\u001B[0m\u001B[1;33m\u001B[0m\u001B[0m\n\u001B[0;32m   2365\u001B[0m                 \u001B[1;32mwith\u001B[0m \u001B[0mcbook\u001B[0m\u001B[1;33m.\u001B[0m\u001B[0m_setattr_cm\u001B[0m\u001B[1;33m(\u001B[0m\u001B[0mself\u001B[0m\u001B[1;33m.\u001B[0m\u001B[0mfigure\u001B[0m\u001B[1;33m,\u001B[0m \u001B[0mdpi\u001B[0m\u001B[1;33m=\u001B[0m\u001B[0mdpi\u001B[0m\u001B[1;33m)\u001B[0m\u001B[1;33m:\u001B[0m\u001B[1;33m\u001B[0m\u001B[1;33m\u001B[0m\u001B[0m\n\u001B[1;32m-> 2366\u001B[1;33m                     result = print_method(\n\u001B[0m\u001B[0;32m   2367\u001B[0m                         \u001B[0mfilename\u001B[0m\u001B[1;33m,\u001B[0m\u001B[1;33m\u001B[0m\u001B[1;33m\u001B[0m\u001B[0m\n\u001B[0;32m   2368\u001B[0m                         \u001B[0mfacecolor\u001B[0m\u001B[1;33m=\u001B[0m\u001B[0mfacecolor\u001B[0m\u001B[1;33m,\u001B[0m\u001B[1;33m\u001B[0m\u001B[1;33m\u001B[0m\u001B[0m\n",
      "\u001B[1;32mD:\\Anaconda\\envs\\my_gym\\lib\\site-packages\\matplotlib\\backend_bases.py\u001B[0m in \u001B[0;36m<lambda>\u001B[1;34m(*args, **kwargs)\u001B[0m\n\u001B[0;32m   2230\u001B[0m                 \"bbox_inches_restore\"}\n\u001B[0;32m   2231\u001B[0m             \u001B[0mskip\u001B[0m \u001B[1;33m=\u001B[0m \u001B[0moptional_kws\u001B[0m \u001B[1;33m-\u001B[0m \u001B[1;33m{\u001B[0m\u001B[1;33m*\u001B[0m\u001B[0minspect\u001B[0m\u001B[1;33m.\u001B[0m\u001B[0msignature\u001B[0m\u001B[1;33m(\u001B[0m\u001B[0mmeth\u001B[0m\u001B[1;33m)\u001B[0m\u001B[1;33m.\u001B[0m\u001B[0mparameters\u001B[0m\u001B[1;33m}\u001B[0m\u001B[1;33m\u001B[0m\u001B[1;33m\u001B[0m\u001B[0m\n\u001B[1;32m-> 2232\u001B[1;33m             print_method = functools.wraps(meth)(lambda *args, **kwargs: meth(\n\u001B[0m\u001B[0;32m   2233\u001B[0m                 *args, **{k: v for k, v in kwargs.items() if k not in skip}))\n\u001B[0;32m   2234\u001B[0m         \u001B[1;32melse\u001B[0m\u001B[1;33m:\u001B[0m  \u001B[1;31m# Let third-parties do as they see fit.\u001B[0m\u001B[1;33m\u001B[0m\u001B[1;33m\u001B[0m\u001B[0m\n",
      "\u001B[1;32mD:\\Anaconda\\envs\\my_gym\\lib\\site-packages\\matplotlib\\backends\\backend_agg.py\u001B[0m in \u001B[0;36mprint_png\u001B[1;34m(self, filename_or_obj, metadata, pil_kwargs)\u001B[0m\n\u001B[0;32m    507\u001B[0m             \u001B[1;33m*\u001B[0m\u001B[0mmetadata\u001B[0m\u001B[1;33m*\u001B[0m\u001B[1;33m,\u001B[0m \u001B[0mincluding\u001B[0m \u001B[0mthe\u001B[0m \u001B[0mdefault\u001B[0m \u001B[1;34m'Software'\u001B[0m \u001B[0mkey\u001B[0m\u001B[1;33m.\u001B[0m\u001B[1;33m\u001B[0m\u001B[1;33m\u001B[0m\u001B[0m\n\u001B[0;32m    508\u001B[0m         \"\"\"\n\u001B[1;32m--> 509\u001B[1;33m         \u001B[0mself\u001B[0m\u001B[1;33m.\u001B[0m\u001B[0m_print_pil\u001B[0m\u001B[1;33m(\u001B[0m\u001B[0mfilename_or_obj\u001B[0m\u001B[1;33m,\u001B[0m \u001B[1;34m\"png\"\u001B[0m\u001B[1;33m,\u001B[0m \u001B[0mpil_kwargs\u001B[0m\u001B[1;33m,\u001B[0m \u001B[0mmetadata\u001B[0m\u001B[1;33m)\u001B[0m\u001B[1;33m\u001B[0m\u001B[1;33m\u001B[0m\u001B[0m\n\u001B[0m\u001B[0;32m    510\u001B[0m \u001B[1;33m\u001B[0m\u001B[0m\n\u001B[0;32m    511\u001B[0m     \u001B[1;32mdef\u001B[0m \u001B[0mprint_to_buffer\u001B[0m\u001B[1;33m(\u001B[0m\u001B[0mself\u001B[0m\u001B[1;33m)\u001B[0m\u001B[1;33m:\u001B[0m\u001B[1;33m\u001B[0m\u001B[1;33m\u001B[0m\u001B[0m\n",
      "\u001B[1;32mD:\\Anaconda\\envs\\my_gym\\lib\\site-packages\\matplotlib\\backends\\backend_agg.py\u001B[0m in \u001B[0;36m_print_pil\u001B[1;34m(self, filename_or_obj, fmt, pil_kwargs, metadata)\u001B[0m\n\u001B[0;32m    456\u001B[0m         \"\"\"\n\u001B[0;32m    457\u001B[0m         \u001B[0mFigureCanvasAgg\u001B[0m\u001B[1;33m.\u001B[0m\u001B[0mdraw\u001B[0m\u001B[1;33m(\u001B[0m\u001B[0mself\u001B[0m\u001B[1;33m)\u001B[0m\u001B[1;33m\u001B[0m\u001B[1;33m\u001B[0m\u001B[0m\n\u001B[1;32m--> 458\u001B[1;33m         mpl.image.imsave(\n\u001B[0m\u001B[0;32m    459\u001B[0m             \u001B[0mfilename_or_obj\u001B[0m\u001B[1;33m,\u001B[0m \u001B[0mself\u001B[0m\u001B[1;33m.\u001B[0m\u001B[0mbuffer_rgba\u001B[0m\u001B[1;33m(\u001B[0m\u001B[1;33m)\u001B[0m\u001B[1;33m,\u001B[0m \u001B[0mformat\u001B[0m\u001B[1;33m=\u001B[0m\u001B[0mfmt\u001B[0m\u001B[1;33m,\u001B[0m \u001B[0morigin\u001B[0m\u001B[1;33m=\u001B[0m\u001B[1;34m\"upper\"\u001B[0m\u001B[1;33m,\u001B[0m\u001B[1;33m\u001B[0m\u001B[1;33m\u001B[0m\u001B[0m\n\u001B[0;32m    460\u001B[0m             dpi=self.figure.dpi, metadata=metadata, pil_kwargs=pil_kwargs)\n",
      "\u001B[1;32mD:\\Anaconda\\envs\\my_gym\\lib\\site-packages\\matplotlib\\image.py\u001B[0m in \u001B[0;36mimsave\u001B[1;34m(fname, arr, vmin, vmax, cmap, format, origin, dpi, metadata, pil_kwargs)\u001B[0m\n\u001B[0;32m   1687\u001B[0m         \u001B[0mpil_kwargs\u001B[0m\u001B[1;33m.\u001B[0m\u001B[0msetdefault\u001B[0m\u001B[1;33m(\u001B[0m\u001B[1;34m\"format\"\u001B[0m\u001B[1;33m,\u001B[0m \u001B[0mformat\u001B[0m\u001B[1;33m)\u001B[0m\u001B[1;33m\u001B[0m\u001B[1;33m\u001B[0m\u001B[0m\n\u001B[0;32m   1688\u001B[0m         \u001B[0mpil_kwargs\u001B[0m\u001B[1;33m.\u001B[0m\u001B[0msetdefault\u001B[0m\u001B[1;33m(\u001B[0m\u001B[1;34m\"dpi\"\u001B[0m\u001B[1;33m,\u001B[0m \u001B[1;33m(\u001B[0m\u001B[0mdpi\u001B[0m\u001B[1;33m,\u001B[0m \u001B[0mdpi\u001B[0m\u001B[1;33m)\u001B[0m\u001B[1;33m)\u001B[0m\u001B[1;33m\u001B[0m\u001B[1;33m\u001B[0m\u001B[0m\n\u001B[1;32m-> 1689\u001B[1;33m         \u001B[0mimage\u001B[0m\u001B[1;33m.\u001B[0m\u001B[0msave\u001B[0m\u001B[1;33m(\u001B[0m\u001B[0mfname\u001B[0m\u001B[1;33m,\u001B[0m \u001B[1;33m**\u001B[0m\u001B[0mpil_kwargs\u001B[0m\u001B[1;33m)\u001B[0m\u001B[1;33m\u001B[0m\u001B[1;33m\u001B[0m\u001B[0m\n\u001B[0m\u001B[0;32m   1690\u001B[0m \u001B[1;33m\u001B[0m\u001B[0m\n\u001B[0;32m   1691\u001B[0m \u001B[1;33m\u001B[0m\u001B[0m\n",
      "\u001B[1;32mD:\\Anaconda\\envs\\my_gym\\lib\\site-packages\\PIL\\Image.py\u001B[0m in \u001B[0;36msave\u001B[1;34m(self, fp, format, **params)\u001B[0m\n\u001B[0;32m   2427\u001B[0m                 \u001B[0mfp\u001B[0m \u001B[1;33m=\u001B[0m \u001B[0mbuiltins\u001B[0m\u001B[1;33m.\u001B[0m\u001B[0mopen\u001B[0m\u001B[1;33m(\u001B[0m\u001B[0mfilename\u001B[0m\u001B[1;33m,\u001B[0m \u001B[1;34m\"r+b\"\u001B[0m\u001B[1;33m)\u001B[0m\u001B[1;33m\u001B[0m\u001B[1;33m\u001B[0m\u001B[0m\n\u001B[0;32m   2428\u001B[0m             \u001B[1;32melse\u001B[0m\u001B[1;33m:\u001B[0m\u001B[1;33m\u001B[0m\u001B[1;33m\u001B[0m\u001B[0m\n\u001B[1;32m-> 2429\u001B[1;33m                 \u001B[0mfp\u001B[0m \u001B[1;33m=\u001B[0m \u001B[0mbuiltins\u001B[0m\u001B[1;33m.\u001B[0m\u001B[0mopen\u001B[0m\u001B[1;33m(\u001B[0m\u001B[0mfilename\u001B[0m\u001B[1;33m,\u001B[0m \u001B[1;34m\"w+b\"\u001B[0m\u001B[1;33m)\u001B[0m\u001B[1;33m\u001B[0m\u001B[1;33m\u001B[0m\u001B[0m\n\u001B[0m\u001B[0;32m   2430\u001B[0m \u001B[1;33m\u001B[0m\u001B[0m\n\u001B[0;32m   2431\u001B[0m         \u001B[1;32mtry\u001B[0m\u001B[1;33m:\u001B[0m\u001B[1;33m\u001B[0m\u001B[1;33m\u001B[0m\u001B[0m\n",
      "\u001B[1;31mFileNotFoundError\u001B[0m: [Errno 2] No such file or directory: './output_images/avg_reward.png'"
     ]
    },
    {
     "data": {
      "text/plain": "<Figure size 432x288 with 0 Axes>"
     },
     "metadata": {},
     "output_type": "display_data"
    }
   ]
  }
 ]
}